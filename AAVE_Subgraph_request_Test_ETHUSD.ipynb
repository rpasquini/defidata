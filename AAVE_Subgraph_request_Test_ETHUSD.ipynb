{
  "nbformat": 4,
  "nbformat_minor": 0,
  "metadata": {
    "colab": {
      "name": "AAVE Subgraph request Test ETHUSD.ipynb",
      "provenance": [],
      "authorship_tag": "ABX9TyPELrVfkf2K4h4flODtSxuW",
      "include_colab_link": true
    },
    "kernelspec": {
      "name": "python3",
      "display_name": "Python 3"
    },
    "language_info": {
      "name": "python"
    }
  },
  "cells": [
    {
      "cell_type": "markdown",
      "metadata": {
        "id": "view-in-github",
        "colab_type": "text"
      },
      "source": [
        "<a href=\"https://colab.research.google.com/github/rpasquini/defidata/blob/main/AAVE_Subgraph_request_Test_ETHUSD.ipynb\" target=\"_parent\"><img src=\"https://colab.research.google.com/assets/colab-badge.svg\" alt=\"Open In Colab\"/></a>"
      ]
    },
    {
      "cell_type": "code",
      "source": [
        "import requests\n",
        "# pretty print is used to print the output in the console in an easy to read format\n",
        "from pprint import pprint\n",
        "\n",
        "\n",
        "# function to use requests.post to make an API call to the subgraph url\n",
        "def run_query(q):\n",
        "\n",
        "    # endpoint where you are making the request\n",
        "    request = requests.post('https://api.thegraph.com/subgraphs/name/aave/protocol-v2',\n",
        "                            json={'query': query})\n",
        "    if request.status_code == 200:\n",
        "        return request.json()\n",
        "    else:\n",
        "        raise Exception('Query failed. return code is {}.      {}'.format(request.status_code, query))"
      ],
      "metadata": {
        "id": "iMi99INhKzkv"
      },
      "execution_count": 38,
      "outputs": []
    },
    {
      "cell_type": "code",
      "source": [
        "# The Graph query - Query aave for a list of the last 10 flash loans by time stamp\n",
        "query = \"\"\"\n",
        "{\n",
        "usdEthPriceHistoryItems(skip:5000, first: 10) {\n",
        "    id\n",
        "\t\tprice\n",
        "    timestamp\n",
        "  \toracle {\n",
        "  \t  id\n",
        "  \t}\n",
        "    }\n",
        "  }\n",
        "\"\"\"\n",
        "result = run_query(query)"
      ],
      "metadata": {
        "id": "80GHvUFNK2Vu"
      },
      "execution_count": 39,
      "outputs": []
    },
    {
      "cell_type": "code",
      "source": [
        "result"
      ],
      "metadata": {
        "colab": {
          "base_uri": "https://localhost:8080/"
        },
        "id": "4yDU5k2UK6hX",
        "outputId": "be9221ff-bef1-451c-f37a-453be6b3b6be"
      },
      "execution_count": 22,
      "outputs": [
        {
          "output_type": "execute_result",
          "data": {
            "text/plain": [
              "{'data': {'usdEthPriceHistoryItems': [{'id': '10163852137',\n",
              "    'price': '4561066525110233',\n",
              "    'timestamp': 1590797801,\n",
              "    'oracle': {'id': '1'}},\n",
              "   {'id': '10163852138',\n",
              "    'price': '4561066525110233',\n",
              "    'timestamp': 1590797801,\n",
              "    'oracle': {'id': '1'}},\n",
              "   {'id': '1016385558',\n",
              "    'price': '4561066525110233',\n",
              "    'timestamp': 1590797859,\n",
              "    'oracle': {'id': '1'}},\n",
              "   {'id': '10164592159',\n",
              "    'price': '4553526706434133',\n",
              "    'timestamp': 1590807788,\n",
              "    'oracle': {'id': '1'}},\n",
              "   {'id': '10164592171',\n",
              "    'price': '4553526706434133',\n",
              "    'timestamp': 1590807788,\n",
              "    'oracle': {'id': '1'}},\n",
              "   {'id': '10164592186',\n",
              "    'price': '4553526706434133',\n",
              "    'timestamp': 1590807788,\n",
              "    'oracle': {'id': '1'}},\n",
              "   {'id': '10164592190',\n",
              "    'price': '4553526706434133',\n",
              "    'timestamp': 1590807788,\n",
              "    'oracle': {'id': '1'}},\n",
              "   {'id': '10164592192',\n",
              "    'price': '4553526706434133',\n",
              "    'timestamp': 1590807788,\n",
              "    'oracle': {'id': '1'}},\n",
              "   {'id': '1016459546',\n",
              "    'price': '4553526706434133',\n",
              "    'timestamp': 1590807821,\n",
              "    'oracle': {'id': '1'}},\n",
              "   {'id': '1016459562',\n",
              "    'price': '4554541542739986',\n",
              "    'timestamp': 1590807821,\n",
              "    'oracle': {'id': '1'}}]}}"
            ]
          },
          "metadata": {},
          "execution_count": 22
        }
      ]
    },
    {
      "cell_type": "code",
      "source": [
        "from datetime import datetime\n",
        "\n",
        "timestamp = 1651363200\n",
        "dt_object = datetime.fromtimestamp(timestamp)\n",
        "dt_object"
      ],
      "metadata": {
        "colab": {
          "base_uri": "https://localhost:8080/"
        },
        "id": "JWH1KeNuNO72",
        "outputId": "f33839b9-b353-4f8a-c345-9b9da2dd31dd"
      },
      "execution_count": 37,
      "outputs": [
        {
          "output_type": "execute_result",
          "data": {
            "text/plain": [
              "datetime.datetime(2022, 5, 1, 0, 0)"
            ]
          },
          "metadata": {},
          "execution_count": 37
        }
      ]
    },
    {
      "cell_type": "markdown",
      "source": [
        "Notar el uso de orderby y orderdirection "
      ],
      "metadata": {
        "id": "JeO2zUC2kBis"
      }
    },
    {
      "cell_type": "code",
      "source": [
        "\n",
        "query = \"\"\"\n",
        "{\n",
        "  usdEthPriceHistoryItems(orderBy: timestamp, orderDirection: asc, where: {timestamp_gt:1651363200}) {\n",
        "    id\n",
        "    timestamp\n",
        "    price\n",
        "    oracle\n",
        "    }\n",
        "  }\n",
        "\"\"\"\n",
        "result = run_query(query)"
      ],
      "metadata": {
        "id": "u4BIxYOUzU0a"
      },
      "execution_count": 42,
      "outputs": []
    },
    {
      "cell_type": "code",
      "source": [
        "import pandas as pd"
      ],
      "metadata": {
        "id": "zA_r9yWdYHad"
      },
      "execution_count": 56,
      "outputs": []
    },
    {
      "cell_type": "code",
      "source": [
        "df=pd.DataFrame.from_records(result['data']['usdEthPriceHistoryItems'])\n",
        "df.head()"
      ],
      "metadata": {
        "colab": {
          "base_uri": "https://localhost:8080/",
          "height": 206
        },
        "id": "UH8WLVXCHY0j",
        "outputId": "27d2b8e2-1492-4bb7-c054-0747d771dba6"
      },
      "execution_count": 92,
      "outputs": [
        {
          "output_type": "execute_result",
          "data": {
            "text/plain": [
              "            id   timestamp            price\n",
              "0  14688858113  1651366586  365278122762671\n",
              "1    146891861  1651370833  361360449821487\n",
              "2   1468923813  1651371533  361042313313689\n",
              "3   1468956688  1651375816  361431907570866\n",
              "4   1468984775  1651379432  360586483330625"
            ],
            "text/html": [
              "\n",
              "  <div id=\"df-53c1ea86-7920-4566-99d8-13ca5afa30d8\">\n",
              "    <div class=\"colab-df-container\">\n",
              "      <div>\n",
              "<style scoped>\n",
              "    .dataframe tbody tr th:only-of-type {\n",
              "        vertical-align: middle;\n",
              "    }\n",
              "\n",
              "    .dataframe tbody tr th {\n",
              "        vertical-align: top;\n",
              "    }\n",
              "\n",
              "    .dataframe thead th {\n",
              "        text-align: right;\n",
              "    }\n",
              "</style>\n",
              "<table border=\"1\" class=\"dataframe\">\n",
              "  <thead>\n",
              "    <tr style=\"text-align: right;\">\n",
              "      <th></th>\n",
              "      <th>id</th>\n",
              "      <th>timestamp</th>\n",
              "      <th>price</th>\n",
              "    </tr>\n",
              "  </thead>\n",
              "  <tbody>\n",
              "    <tr>\n",
              "      <th>0</th>\n",
              "      <td>14688858113</td>\n",
              "      <td>1651366586</td>\n",
              "      <td>365278122762671</td>\n",
              "    </tr>\n",
              "    <tr>\n",
              "      <th>1</th>\n",
              "      <td>146891861</td>\n",
              "      <td>1651370833</td>\n",
              "      <td>361360449821487</td>\n",
              "    </tr>\n",
              "    <tr>\n",
              "      <th>2</th>\n",
              "      <td>1468923813</td>\n",
              "      <td>1651371533</td>\n",
              "      <td>361042313313689</td>\n",
              "    </tr>\n",
              "    <tr>\n",
              "      <th>3</th>\n",
              "      <td>1468956688</td>\n",
              "      <td>1651375816</td>\n",
              "      <td>361431907570866</td>\n",
              "    </tr>\n",
              "    <tr>\n",
              "      <th>4</th>\n",
              "      <td>1468984775</td>\n",
              "      <td>1651379432</td>\n",
              "      <td>360586483330625</td>\n",
              "    </tr>\n",
              "  </tbody>\n",
              "</table>\n",
              "</div>\n",
              "      <button class=\"colab-df-convert\" onclick=\"convertToInteractive('df-53c1ea86-7920-4566-99d8-13ca5afa30d8')\"\n",
              "              title=\"Convert this dataframe to an interactive table.\"\n",
              "              style=\"display:none;\">\n",
              "        \n",
              "  <svg xmlns=\"http://www.w3.org/2000/svg\" height=\"24px\"viewBox=\"0 0 24 24\"\n",
              "       width=\"24px\">\n",
              "    <path d=\"M0 0h24v24H0V0z\" fill=\"none\"/>\n",
              "    <path d=\"M18.56 5.44l.94 2.06.94-2.06 2.06-.94-2.06-.94-.94-2.06-.94 2.06-2.06.94zm-11 1L8.5 8.5l.94-2.06 2.06-.94-2.06-.94L8.5 2.5l-.94 2.06-2.06.94zm10 10l.94 2.06.94-2.06 2.06-.94-2.06-.94-.94-2.06-.94 2.06-2.06.94z\"/><path d=\"M17.41 7.96l-1.37-1.37c-.4-.4-.92-.59-1.43-.59-.52 0-1.04.2-1.43.59L10.3 9.45l-7.72 7.72c-.78.78-.78 2.05 0 2.83L4 21.41c.39.39.9.59 1.41.59.51 0 1.02-.2 1.41-.59l7.78-7.78 2.81-2.81c.8-.78.8-2.07 0-2.86zM5.41 20L4 18.59l7.72-7.72 1.47 1.35L5.41 20z\"/>\n",
              "  </svg>\n",
              "      </button>\n",
              "      \n",
              "  <style>\n",
              "    .colab-df-container {\n",
              "      display:flex;\n",
              "      flex-wrap:wrap;\n",
              "      gap: 12px;\n",
              "    }\n",
              "\n",
              "    .colab-df-convert {\n",
              "      background-color: #E8F0FE;\n",
              "      border: none;\n",
              "      border-radius: 50%;\n",
              "      cursor: pointer;\n",
              "      display: none;\n",
              "      fill: #1967D2;\n",
              "      height: 32px;\n",
              "      padding: 0 0 0 0;\n",
              "      width: 32px;\n",
              "    }\n",
              "\n",
              "    .colab-df-convert:hover {\n",
              "      background-color: #E2EBFA;\n",
              "      box-shadow: 0px 1px 2px rgba(60, 64, 67, 0.3), 0px 1px 3px 1px rgba(60, 64, 67, 0.15);\n",
              "      fill: #174EA6;\n",
              "    }\n",
              "\n",
              "    [theme=dark] .colab-df-convert {\n",
              "      background-color: #3B4455;\n",
              "      fill: #D2E3FC;\n",
              "    }\n",
              "\n",
              "    [theme=dark] .colab-df-convert:hover {\n",
              "      background-color: #434B5C;\n",
              "      box-shadow: 0px 1px 3px 1px rgba(0, 0, 0, 0.15);\n",
              "      filter: drop-shadow(0px 1px 2px rgba(0, 0, 0, 0.3));\n",
              "      fill: #FFFFFF;\n",
              "    }\n",
              "  </style>\n",
              "\n",
              "      <script>\n",
              "        const buttonEl =\n",
              "          document.querySelector('#df-53c1ea86-7920-4566-99d8-13ca5afa30d8 button.colab-df-convert');\n",
              "        buttonEl.style.display =\n",
              "          google.colab.kernel.accessAllowed ? 'block' : 'none';\n",
              "\n",
              "        async function convertToInteractive(key) {\n",
              "          const element = document.querySelector('#df-53c1ea86-7920-4566-99d8-13ca5afa30d8');\n",
              "          const dataTable =\n",
              "            await google.colab.kernel.invokeFunction('convertToInteractive',\n",
              "                                                     [key], {});\n",
              "          if (!dataTable) return;\n",
              "\n",
              "          const docLinkHtml = 'Like what you see? Visit the ' +\n",
              "            '<a target=\"_blank\" href=https://colab.research.google.com/notebooks/data_table.ipynb>data table notebook</a>'\n",
              "            + ' to learn more about interactive tables.';\n",
              "          element.innerHTML = '';\n",
              "          dataTable['output_type'] = 'display_data';\n",
              "          await google.colab.output.renderOutput(dataTable, element);\n",
              "          const docLink = document.createElement('div');\n",
              "          docLink.innerHTML = docLinkHtml;\n",
              "          element.appendChild(docLink);\n",
              "        }\n",
              "      </script>\n",
              "    </div>\n",
              "  </div>\n",
              "  "
            ]
          },
          "metadata": {},
          "execution_count": 92
        }
      ]
    },
    {
      "cell_type": "code",
      "source": [
        "df['datetime']=df['timestamp'].apply(lambda x: datetime.datetime.fromtimestamp(x))"
      ],
      "metadata": {
        "id": "nfHcB5fiecpV"
      },
      "execution_count": 120,
      "outputs": []
    },
    {
      "cell_type": "code",
      "source": [
        "df['ETHUSD']=1/(df['price'].astype(int)*1e-18)\n",
        "df"
      ],
      "metadata": {
        "colab": {
          "base_uri": "https://localhost:8080/",
          "height": 424
        },
        "id": "4GXbLdAgO8Ai",
        "outputId": "12c30a39-1f02-4265-b30d-016ada666aec"
      },
      "execution_count": 93,
      "outputs": [
        {
          "output_type": "execute_result",
          "data": {
            "text/plain": [
              "             id   timestamp            price       ETHUSD\n",
              "0   14688858113  1651366586  365278122762671  2737.640000\n",
              "1     146891861  1651370833  361360449821487  2767.320000\n",
              "2    1468923813  1651371533  361042313313689  2769.758455\n",
              "3    1468956688  1651375816  361431907570866  2766.772880\n",
              "4    1468984775  1651379432  360586483330625  2773.259804\n",
              "..          ...         ...              ...          ...\n",
              "95   1470138783  1651536311  349893195102195  2858.015000\n",
              "96   1470156971  1651538970  351685694002021  2843.448048\n",
              "97   1470161221  1651539430  352282413701711  2838.631624\n",
              "98  14701881121  1651542930  351731422370369  2843.078373\n",
              "99  14702134282  1651546539  351760915141196  2842.840000\n",
              "\n",
              "[100 rows x 4 columns]"
            ],
            "text/html": [
              "\n",
              "  <div id=\"df-439a8d6c-eb58-4996-9a11-b67ac72d0af1\">\n",
              "    <div class=\"colab-df-container\">\n",
              "      <div>\n",
              "<style scoped>\n",
              "    .dataframe tbody tr th:only-of-type {\n",
              "        vertical-align: middle;\n",
              "    }\n",
              "\n",
              "    .dataframe tbody tr th {\n",
              "        vertical-align: top;\n",
              "    }\n",
              "\n",
              "    .dataframe thead th {\n",
              "        text-align: right;\n",
              "    }\n",
              "</style>\n",
              "<table border=\"1\" class=\"dataframe\">\n",
              "  <thead>\n",
              "    <tr style=\"text-align: right;\">\n",
              "      <th></th>\n",
              "      <th>id</th>\n",
              "      <th>timestamp</th>\n",
              "      <th>price</th>\n",
              "      <th>ETHUSD</th>\n",
              "    </tr>\n",
              "  </thead>\n",
              "  <tbody>\n",
              "    <tr>\n",
              "      <th>0</th>\n",
              "      <td>14688858113</td>\n",
              "      <td>1651366586</td>\n",
              "      <td>365278122762671</td>\n",
              "      <td>2737.640000</td>\n",
              "    </tr>\n",
              "    <tr>\n",
              "      <th>1</th>\n",
              "      <td>146891861</td>\n",
              "      <td>1651370833</td>\n",
              "      <td>361360449821487</td>\n",
              "      <td>2767.320000</td>\n",
              "    </tr>\n",
              "    <tr>\n",
              "      <th>2</th>\n",
              "      <td>1468923813</td>\n",
              "      <td>1651371533</td>\n",
              "      <td>361042313313689</td>\n",
              "      <td>2769.758455</td>\n",
              "    </tr>\n",
              "    <tr>\n",
              "      <th>3</th>\n",
              "      <td>1468956688</td>\n",
              "      <td>1651375816</td>\n",
              "      <td>361431907570866</td>\n",
              "      <td>2766.772880</td>\n",
              "    </tr>\n",
              "    <tr>\n",
              "      <th>4</th>\n",
              "      <td>1468984775</td>\n",
              "      <td>1651379432</td>\n",
              "      <td>360586483330625</td>\n",
              "      <td>2773.259804</td>\n",
              "    </tr>\n",
              "    <tr>\n",
              "      <th>...</th>\n",
              "      <td>...</td>\n",
              "      <td>...</td>\n",
              "      <td>...</td>\n",
              "      <td>...</td>\n",
              "    </tr>\n",
              "    <tr>\n",
              "      <th>95</th>\n",
              "      <td>1470138783</td>\n",
              "      <td>1651536311</td>\n",
              "      <td>349893195102195</td>\n",
              "      <td>2858.015000</td>\n",
              "    </tr>\n",
              "    <tr>\n",
              "      <th>96</th>\n",
              "      <td>1470156971</td>\n",
              "      <td>1651538970</td>\n",
              "      <td>351685694002021</td>\n",
              "      <td>2843.448048</td>\n",
              "    </tr>\n",
              "    <tr>\n",
              "      <th>97</th>\n",
              "      <td>1470161221</td>\n",
              "      <td>1651539430</td>\n",
              "      <td>352282413701711</td>\n",
              "      <td>2838.631624</td>\n",
              "    </tr>\n",
              "    <tr>\n",
              "      <th>98</th>\n",
              "      <td>14701881121</td>\n",
              "      <td>1651542930</td>\n",
              "      <td>351731422370369</td>\n",
              "      <td>2843.078373</td>\n",
              "    </tr>\n",
              "    <tr>\n",
              "      <th>99</th>\n",
              "      <td>14702134282</td>\n",
              "      <td>1651546539</td>\n",
              "      <td>351760915141196</td>\n",
              "      <td>2842.840000</td>\n",
              "    </tr>\n",
              "  </tbody>\n",
              "</table>\n",
              "<p>100 rows × 4 columns</p>\n",
              "</div>\n",
              "      <button class=\"colab-df-convert\" onclick=\"convertToInteractive('df-439a8d6c-eb58-4996-9a11-b67ac72d0af1')\"\n",
              "              title=\"Convert this dataframe to an interactive table.\"\n",
              "              style=\"display:none;\">\n",
              "        \n",
              "  <svg xmlns=\"http://www.w3.org/2000/svg\" height=\"24px\"viewBox=\"0 0 24 24\"\n",
              "       width=\"24px\">\n",
              "    <path d=\"M0 0h24v24H0V0z\" fill=\"none\"/>\n",
              "    <path d=\"M18.56 5.44l.94 2.06.94-2.06 2.06-.94-2.06-.94-.94-2.06-.94 2.06-2.06.94zm-11 1L8.5 8.5l.94-2.06 2.06-.94-2.06-.94L8.5 2.5l-.94 2.06-2.06.94zm10 10l.94 2.06.94-2.06 2.06-.94-2.06-.94-.94-2.06-.94 2.06-2.06.94z\"/><path d=\"M17.41 7.96l-1.37-1.37c-.4-.4-.92-.59-1.43-.59-.52 0-1.04.2-1.43.59L10.3 9.45l-7.72 7.72c-.78.78-.78 2.05 0 2.83L4 21.41c.39.39.9.59 1.41.59.51 0 1.02-.2 1.41-.59l7.78-7.78 2.81-2.81c.8-.78.8-2.07 0-2.86zM5.41 20L4 18.59l7.72-7.72 1.47 1.35L5.41 20z\"/>\n",
              "  </svg>\n",
              "      </button>\n",
              "      \n",
              "  <style>\n",
              "    .colab-df-container {\n",
              "      display:flex;\n",
              "      flex-wrap:wrap;\n",
              "      gap: 12px;\n",
              "    }\n",
              "\n",
              "    .colab-df-convert {\n",
              "      background-color: #E8F0FE;\n",
              "      border: none;\n",
              "      border-radius: 50%;\n",
              "      cursor: pointer;\n",
              "      display: none;\n",
              "      fill: #1967D2;\n",
              "      height: 32px;\n",
              "      padding: 0 0 0 0;\n",
              "      width: 32px;\n",
              "    }\n",
              "\n",
              "    .colab-df-convert:hover {\n",
              "      background-color: #E2EBFA;\n",
              "      box-shadow: 0px 1px 2px rgba(60, 64, 67, 0.3), 0px 1px 3px 1px rgba(60, 64, 67, 0.15);\n",
              "      fill: #174EA6;\n",
              "    }\n",
              "\n",
              "    [theme=dark] .colab-df-convert {\n",
              "      background-color: #3B4455;\n",
              "      fill: #D2E3FC;\n",
              "    }\n",
              "\n",
              "    [theme=dark] .colab-df-convert:hover {\n",
              "      background-color: #434B5C;\n",
              "      box-shadow: 0px 1px 3px 1px rgba(0, 0, 0, 0.15);\n",
              "      filter: drop-shadow(0px 1px 2px rgba(0, 0, 0, 0.3));\n",
              "      fill: #FFFFFF;\n",
              "    }\n",
              "  </style>\n",
              "\n",
              "      <script>\n",
              "        const buttonEl =\n",
              "          document.querySelector('#df-439a8d6c-eb58-4996-9a11-b67ac72d0af1 button.colab-df-convert');\n",
              "        buttonEl.style.display =\n",
              "          google.colab.kernel.accessAllowed ? 'block' : 'none';\n",
              "\n",
              "        async function convertToInteractive(key) {\n",
              "          const element = document.querySelector('#df-439a8d6c-eb58-4996-9a11-b67ac72d0af1');\n",
              "          const dataTable =\n",
              "            await google.colab.kernel.invokeFunction('convertToInteractive',\n",
              "                                                     [key], {});\n",
              "          if (!dataTable) return;\n",
              "\n",
              "          const docLinkHtml = 'Like what you see? Visit the ' +\n",
              "            '<a target=\"_blank\" href=https://colab.research.google.com/notebooks/data_table.ipynb>data table notebook</a>'\n",
              "            + ' to learn more about interactive tables.';\n",
              "          element.innerHTML = '';\n",
              "          dataTable['output_type'] = 'display_data';\n",
              "          await google.colab.output.renderOutput(dataTable, element);\n",
              "          const docLink = document.createElement('div');\n",
              "          docLink.innerHTML = docLinkHtml;\n",
              "          element.appendChild(docLink);\n",
              "        }\n",
              "      </script>\n",
              "    </div>\n",
              "  </div>\n",
              "  "
            ]
          },
          "metadata": {},
          "execution_count": 93
        }
      ]
    },
    {
      "cell_type": "code",
      "source": [
        "10**(-18)"
      ],
      "metadata": {
        "colab": {
          "base_uri": "https://localhost:8080/"
        },
        "id": "QymiFLnBZhJl",
        "outputId": "d2eb775a-ae47-4a6f-af2b-2676f15b7e01"
      },
      "execution_count": 77,
      "outputs": [
        {
          "output_type": "execute_result",
          "data": {
            "text/plain": [
              "1e-18"
            ]
          },
          "metadata": {},
          "execution_count": 77
        }
      ]
    },
    {
      "cell_type": "code",
      "source": [
        "df"
      ],
      "metadata": {
        "colab": {
          "base_uri": "https://localhost:8080/",
          "height": 455
        },
        "id": "KljkhUnpjqto",
        "outputId": "aedc2a51-c553-4611-89a5-a6cd3d3fa775"
      },
      "execution_count": 127,
      "outputs": [
        {
          "output_type": "execute_result",
          "data": {
            "text/plain": [
              "                              id   timestamp            price       ETHUSD  \\\n",
              "datetime                                                                     \n",
              "2022-05-01 00:56:26  14688858113  1651366586  365278122762671  2737.640000   \n",
              "2022-05-01 02:07:13    146891861  1651370833  361360449821487  2767.320000   \n",
              "2022-05-01 02:18:53   1468923813  1651371533  361042313313689  2769.758455   \n",
              "2022-05-01 03:30:16   1468956688  1651375816  361431907570866  2766.772880   \n",
              "2022-05-01 04:30:32   1468984775  1651379432  360586483330625  2773.259804   \n",
              "...                          ...         ...              ...          ...   \n",
              "2022-05-03 00:05:11   1470138783  1651536311  349893195102195  2858.015000   \n",
              "2022-05-03 00:49:30   1470156971  1651538970  351685694002021  2843.448048   \n",
              "2022-05-03 00:57:10   1470161221  1651539430  352282413701711  2838.631624   \n",
              "2022-05-03 01:55:30  14701881121  1651542930  351731422370369  2843.078373   \n",
              "2022-05-03 02:55:39  14702134282  1651546539  351760915141196  2842.840000   \n",
              "\n",
              "                               datetime  \n",
              "datetime                                 \n",
              "2022-05-01 00:56:26 2022-05-01 00:56:26  \n",
              "2022-05-01 02:07:13 2022-05-01 02:07:13  \n",
              "2022-05-01 02:18:53 2022-05-01 02:18:53  \n",
              "2022-05-01 03:30:16 2022-05-01 03:30:16  \n",
              "2022-05-01 04:30:32 2022-05-01 04:30:32  \n",
              "...                                 ...  \n",
              "2022-05-03 00:05:11 2022-05-03 00:05:11  \n",
              "2022-05-03 00:49:30 2022-05-03 00:49:30  \n",
              "2022-05-03 00:57:10 2022-05-03 00:57:10  \n",
              "2022-05-03 01:55:30 2022-05-03 01:55:30  \n",
              "2022-05-03 02:55:39 2022-05-03 02:55:39  \n",
              "\n",
              "[100 rows x 5 columns]"
            ],
            "text/html": [
              "\n",
              "  <div id=\"df-22963fec-fd54-4c20-9d39-9128603b54e5\">\n",
              "    <div class=\"colab-df-container\">\n",
              "      <div>\n",
              "<style scoped>\n",
              "    .dataframe tbody tr th:only-of-type {\n",
              "        vertical-align: middle;\n",
              "    }\n",
              "\n",
              "    .dataframe tbody tr th {\n",
              "        vertical-align: top;\n",
              "    }\n",
              "\n",
              "    .dataframe thead th {\n",
              "        text-align: right;\n",
              "    }\n",
              "</style>\n",
              "<table border=\"1\" class=\"dataframe\">\n",
              "  <thead>\n",
              "    <tr style=\"text-align: right;\">\n",
              "      <th></th>\n",
              "      <th>id</th>\n",
              "      <th>timestamp</th>\n",
              "      <th>price</th>\n",
              "      <th>ETHUSD</th>\n",
              "      <th>datetime</th>\n",
              "    </tr>\n",
              "    <tr>\n",
              "      <th>datetime</th>\n",
              "      <th></th>\n",
              "      <th></th>\n",
              "      <th></th>\n",
              "      <th></th>\n",
              "      <th></th>\n",
              "    </tr>\n",
              "  </thead>\n",
              "  <tbody>\n",
              "    <tr>\n",
              "      <th>2022-05-01 00:56:26</th>\n",
              "      <td>14688858113</td>\n",
              "      <td>1651366586</td>\n",
              "      <td>365278122762671</td>\n",
              "      <td>2737.640000</td>\n",
              "      <td>2022-05-01 00:56:26</td>\n",
              "    </tr>\n",
              "    <tr>\n",
              "      <th>2022-05-01 02:07:13</th>\n",
              "      <td>146891861</td>\n",
              "      <td>1651370833</td>\n",
              "      <td>361360449821487</td>\n",
              "      <td>2767.320000</td>\n",
              "      <td>2022-05-01 02:07:13</td>\n",
              "    </tr>\n",
              "    <tr>\n",
              "      <th>2022-05-01 02:18:53</th>\n",
              "      <td>1468923813</td>\n",
              "      <td>1651371533</td>\n",
              "      <td>361042313313689</td>\n",
              "      <td>2769.758455</td>\n",
              "      <td>2022-05-01 02:18:53</td>\n",
              "    </tr>\n",
              "    <tr>\n",
              "      <th>2022-05-01 03:30:16</th>\n",
              "      <td>1468956688</td>\n",
              "      <td>1651375816</td>\n",
              "      <td>361431907570866</td>\n",
              "      <td>2766.772880</td>\n",
              "      <td>2022-05-01 03:30:16</td>\n",
              "    </tr>\n",
              "    <tr>\n",
              "      <th>2022-05-01 04:30:32</th>\n",
              "      <td>1468984775</td>\n",
              "      <td>1651379432</td>\n",
              "      <td>360586483330625</td>\n",
              "      <td>2773.259804</td>\n",
              "      <td>2022-05-01 04:30:32</td>\n",
              "    </tr>\n",
              "    <tr>\n",
              "      <th>...</th>\n",
              "      <td>...</td>\n",
              "      <td>...</td>\n",
              "      <td>...</td>\n",
              "      <td>...</td>\n",
              "      <td>...</td>\n",
              "    </tr>\n",
              "    <tr>\n",
              "      <th>2022-05-03 00:05:11</th>\n",
              "      <td>1470138783</td>\n",
              "      <td>1651536311</td>\n",
              "      <td>349893195102195</td>\n",
              "      <td>2858.015000</td>\n",
              "      <td>2022-05-03 00:05:11</td>\n",
              "    </tr>\n",
              "    <tr>\n",
              "      <th>2022-05-03 00:49:30</th>\n",
              "      <td>1470156971</td>\n",
              "      <td>1651538970</td>\n",
              "      <td>351685694002021</td>\n",
              "      <td>2843.448048</td>\n",
              "      <td>2022-05-03 00:49:30</td>\n",
              "    </tr>\n",
              "    <tr>\n",
              "      <th>2022-05-03 00:57:10</th>\n",
              "      <td>1470161221</td>\n",
              "      <td>1651539430</td>\n",
              "      <td>352282413701711</td>\n",
              "      <td>2838.631624</td>\n",
              "      <td>2022-05-03 00:57:10</td>\n",
              "    </tr>\n",
              "    <tr>\n",
              "      <th>2022-05-03 01:55:30</th>\n",
              "      <td>14701881121</td>\n",
              "      <td>1651542930</td>\n",
              "      <td>351731422370369</td>\n",
              "      <td>2843.078373</td>\n",
              "      <td>2022-05-03 01:55:30</td>\n",
              "    </tr>\n",
              "    <tr>\n",
              "      <th>2022-05-03 02:55:39</th>\n",
              "      <td>14702134282</td>\n",
              "      <td>1651546539</td>\n",
              "      <td>351760915141196</td>\n",
              "      <td>2842.840000</td>\n",
              "      <td>2022-05-03 02:55:39</td>\n",
              "    </tr>\n",
              "  </tbody>\n",
              "</table>\n",
              "<p>100 rows × 5 columns</p>\n",
              "</div>\n",
              "      <button class=\"colab-df-convert\" onclick=\"convertToInteractive('df-22963fec-fd54-4c20-9d39-9128603b54e5')\"\n",
              "              title=\"Convert this dataframe to an interactive table.\"\n",
              "              style=\"display:none;\">\n",
              "        \n",
              "  <svg xmlns=\"http://www.w3.org/2000/svg\" height=\"24px\"viewBox=\"0 0 24 24\"\n",
              "       width=\"24px\">\n",
              "    <path d=\"M0 0h24v24H0V0z\" fill=\"none\"/>\n",
              "    <path d=\"M18.56 5.44l.94 2.06.94-2.06 2.06-.94-2.06-.94-.94-2.06-.94 2.06-2.06.94zm-11 1L8.5 8.5l.94-2.06 2.06-.94-2.06-.94L8.5 2.5l-.94 2.06-2.06.94zm10 10l.94 2.06.94-2.06 2.06-.94-2.06-.94-.94-2.06-.94 2.06-2.06.94z\"/><path d=\"M17.41 7.96l-1.37-1.37c-.4-.4-.92-.59-1.43-.59-.52 0-1.04.2-1.43.59L10.3 9.45l-7.72 7.72c-.78.78-.78 2.05 0 2.83L4 21.41c.39.39.9.59 1.41.59.51 0 1.02-.2 1.41-.59l7.78-7.78 2.81-2.81c.8-.78.8-2.07 0-2.86zM5.41 20L4 18.59l7.72-7.72 1.47 1.35L5.41 20z\"/>\n",
              "  </svg>\n",
              "      </button>\n",
              "      \n",
              "  <style>\n",
              "    .colab-df-container {\n",
              "      display:flex;\n",
              "      flex-wrap:wrap;\n",
              "      gap: 12px;\n",
              "    }\n",
              "\n",
              "    .colab-df-convert {\n",
              "      background-color: #E8F0FE;\n",
              "      border: none;\n",
              "      border-radius: 50%;\n",
              "      cursor: pointer;\n",
              "      display: none;\n",
              "      fill: #1967D2;\n",
              "      height: 32px;\n",
              "      padding: 0 0 0 0;\n",
              "      width: 32px;\n",
              "    }\n",
              "\n",
              "    .colab-df-convert:hover {\n",
              "      background-color: #E2EBFA;\n",
              "      box-shadow: 0px 1px 2px rgba(60, 64, 67, 0.3), 0px 1px 3px 1px rgba(60, 64, 67, 0.15);\n",
              "      fill: #174EA6;\n",
              "    }\n",
              "\n",
              "    [theme=dark] .colab-df-convert {\n",
              "      background-color: #3B4455;\n",
              "      fill: #D2E3FC;\n",
              "    }\n",
              "\n",
              "    [theme=dark] .colab-df-convert:hover {\n",
              "      background-color: #434B5C;\n",
              "      box-shadow: 0px 1px 3px 1px rgba(0, 0, 0, 0.15);\n",
              "      filter: drop-shadow(0px 1px 2px rgba(0, 0, 0, 0.3));\n",
              "      fill: #FFFFFF;\n",
              "    }\n",
              "  </style>\n",
              "\n",
              "      <script>\n",
              "        const buttonEl =\n",
              "          document.querySelector('#df-22963fec-fd54-4c20-9d39-9128603b54e5 button.colab-df-convert');\n",
              "        buttonEl.style.display =\n",
              "          google.colab.kernel.accessAllowed ? 'block' : 'none';\n",
              "\n",
              "        async function convertToInteractive(key) {\n",
              "          const element = document.querySelector('#df-22963fec-fd54-4c20-9d39-9128603b54e5');\n",
              "          const dataTable =\n",
              "            await google.colab.kernel.invokeFunction('convertToInteractive',\n",
              "                                                     [key], {});\n",
              "          if (!dataTable) return;\n",
              "\n",
              "          const docLinkHtml = 'Like what you see? Visit the ' +\n",
              "            '<a target=\"_blank\" href=https://colab.research.google.com/notebooks/data_table.ipynb>data table notebook</a>'\n",
              "            + ' to learn more about interactive tables.';\n",
              "          element.innerHTML = '';\n",
              "          dataTable['output_type'] = 'display_data';\n",
              "          await google.colab.output.renderOutput(dataTable, element);\n",
              "          const docLink = document.createElement('div');\n",
              "          docLink.innerHTML = docLinkHtml;\n",
              "          element.appendChild(docLink);\n",
              "        }\n",
              "      </script>\n",
              "    </div>\n",
              "  </div>\n",
              "  "
            ]
          },
          "metadata": {},
          "execution_count": 127
        }
      ]
    },
    {
      "cell_type": "code",
      "source": [
        "df.index=df.datetime"
      ],
      "metadata": {
        "id": "fb1GrE9vjcM2"
      },
      "execution_count": 125,
      "outputs": []
    },
    {
      "cell_type": "code",
      "source": [
        "df.ETHUSD.plot()"
      ],
      "metadata": {
        "colab": {
          "base_uri": "https://localhost:8080/",
          "height": 297
        },
        "id": "tTg4VW00jiCI",
        "outputId": "6577f43e-9b75-4764-b35d-abbfa1db2021"
      },
      "execution_count": 126,
      "outputs": [
        {
          "output_type": "execute_result",
          "data": {
            "text/plain": [
              "<matplotlib.axes._subplots.AxesSubplot at 0x7fd3348fbd10>"
            ]
          },
          "metadata": {},
          "execution_count": 126
        },
        {
          "output_type": "display_data",
          "data": {
            "text/plain": [
              "<Figure size 432x288 with 1 Axes>"
            ],
            "image/png": "[encoded data removed]"
          },
          "metadata": {
            "needs_background": "light"
          }
        }
      ]
    },
    {
      "cell_type": "code",
      "source": [
        "df.plot.scatter('datetime','ETHUSD')"
      ],
      "metadata": {
        "colab": {
          "base_uri": "https://localhost:8080/",
          "height": 297
        },
        "id": "jABSi8bQPKff",
        "outputId": "9e3910e6-e772-4e13-a00c-8260b1a4df90"
      },
      "execution_count": 124,
      "outputs": [
        {
          "output_type": "execute_result",
          "data": {
            "text/plain": [
              "<matplotlib.axes._subplots.AxesSubplot at 0x7fd334dc7050>"
            ]
          },
          "metadata": {},
          "execution_count": 124
        },
        {
          "output_type": "display_data",
          "data": {
            "text/plain": [
              "<Figure size 432x288 with 1 Axes>"
            ],
            "image/png": "[encoded data removed]"
          },
          "metadata": {
            "needs_background": "light"
          }
        }
      ]
    }
  ]
}