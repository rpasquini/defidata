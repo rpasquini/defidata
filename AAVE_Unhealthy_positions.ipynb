{
  "nbformat": 4,
  "nbformat_minor": 0,
  "metadata": {
    "colab": {
      "provenance": [],
      "authorship_tag": "ABX9TyOFGdJMeE6o8Jo70ixQdV06",
      "include_colab_link": true
    },
    "kernelspec": {
      "name": "python3",
      "display_name": "Python 3"
    },
    "language_info": {
      "name": "python"
    }
  },
  "cells": [
    {
      "cell_type": "markdown",
      "metadata": {
        "id": "view-in-github",
        "colab_type": "text"
      },
      "source": [
        "<a href=\"https://colab.research.google.com/github/rpasquini/defidata/blob/main/AAVE_Unhealthy_positions.ipynb\" target=\"_parent\"><img src=\"https://colab.research.google.com/assets/colab-badge.svg\" alt=\"Open In Colab\"/></a>"
      ]
    },
    {
      "cell_type": "markdown",
      "source": [
        "# Unhealthy positions Monitor"
      ],
      "metadata": {
        "id": "7K-ymUuMA9fx"
      }
    },
    {
      "cell_type": "code",
      "execution_count": 1,
      "metadata": {
        "id": "Zf9kfU6WAt5N"
      },
      "outputs": [],
      "source": [
        "import requests\n",
        "from pprint import pprint\n",
        "from datetime import datetime\n",
        "import pandas as pd"
      ]
    },
    {
      "cell_type": "code",
      "source": [
        "#(See https://thegraph.com/hosted-service/subgraph/aave/protocol-v2?version=current)\n",
        "subgraph_http_address='https://api.thegraph.com/subgraphs/name/aave/protocol-v2'\n",
        "\n",
        "# function to use requests.post to make an API call to the subgraph url\n",
        "def run_query(query):\n",
        "\n",
        "    # endpoint where you are making the request\n",
        "    request = requests.post(subgraph_http_address,\n",
        "                            json={'query': query})\n",
        "    if request.status_code == 200:\n",
        "        return request.json()\n",
        "    else:\n",
        "        raise Exception('Query failed. return code is {}.      {}'.format(request.status_code, query))"
      ],
      "metadata": {
        "id": "jtvye7z1A80s"
      },
      "execution_count": 3,
      "outputs": []
    },
    {
      "cell_type": "code",
      "source": [
        "#users(first:1000, skip: \"\"\"+str(1000*count)+\"\"\", orderBy: id, orderDirection: desc, where: {borrowedReservesCount_gt: 0}) {\n",
        "count=0\n",
        "query=\"\"\"{\n",
        "users(first:10, skip: \"\"\"+str(1000*count)+\"\"\", orderBy: id, orderDirection: desc, where: {borrowedReservesCount_gt: 0}){\n",
        "          id\n",
        "          borrowedReservesCount\n",
        "          collateralReserve:reserves(where: {currentATokenBalance_gt: 0}) {\n",
        "            currentATokenBalance\n",
        "            reserve{\n",
        "              usageAsCollateralEnabled\n",
        "              reserveLiquidationThreshold\n",
        "              reserveLiquidationBonus\n",
        "              borrowingEnabled\n",
        "              utilizationRate\n",
        "              symbol\n",
        "              underlyingAsset\n",
        "              price {\n",
        "                priceInEth\n",
        "              }\n",
        "              decimals\n",
        "            }\n",
        "          }\n",
        "          borrowReserve: reserves(where: {currentTotalDebt_gt: 0}) {\n",
        "            currentTotalDebt\n",
        "            reserve{\n",
        "              usageAsCollateralEnabled\n",
        "              reserveLiquidationThreshold\n",
        "              borrowingEnabled\n",
        "              utilizationRate\n",
        "              symbol\n",
        "              underlyingAsset\n",
        "              price {\n",
        "                priceInEth\n",
        "              }\n",
        "              decimals\n",
        "            }\n",
        "          }\n",
        "      }\n",
        "      }\n",
        "\"\"\"\n",
        "result = run_query(query)\n",
        "result"
      ],
      "metadata": {
        "colab": {
          "base_uri": "https://localhost:8080/"
        },
        "id": "BUrRroT3BIFj",
        "outputId": "5e9c96fa-5c31-420e-b1b4-5ede049fa277"
      },
      "execution_count": 4,
      "outputs": [
        {
          "output_type": "execute_result",
          "data": {
            "text/plain": [
              "{'data': {'users': [{'id': '0xffff8941130157a0153fb5be2618b257f28d3b55',\n",
              "    'borrowedReservesCount': 1,\n",
              "    'collateralReserve': [{'currentATokenBalance': '385716688415711350',\n",
              "      'reserve': {'usageAsCollateralEnabled': True,\n",
              "       'reserveLiquidationThreshold': '8600',\n",
              "       'reserveLiquidationBonus': '10500',\n",
              "       'borrowingEnabled': True,\n",
              "       'utilizationRate': '0.6195913',\n",
              "       'symbol': 'WETH',\n",
              "       'underlyingAsset': '0xc02aaa39b223fe8d0a0e5c4f27ead9083c756cc2',\n",
              "       'price': {'priceInEth': '1000000000000000000'},\n",
              "       'decimals': 18}}],\n",
              "    'borrowReserve': [{'currentTotalDebt': '353684533943004137474',\n",
              "      'reserve': {'usageAsCollateralEnabled': True,\n",
              "       'reserveLiquidationThreshold': '9000',\n",
              "       'borrowingEnabled': True,\n",
              "       'utilizationRate': '0.29835445',\n",
              "       'symbol': 'DAI',\n",
              "       'underlyingAsset': '0x6b175474e89094c44da98b954eedeac495271d0f',\n",
              "       'price': {'priceInEth': '823421689926389'},\n",
              "       'decimals': 18}}]},\n",
              "   {'id': '0xfffcb3903a402b4669e232b53bc6bcebff6eb131',\n",
              "    'borrowedReservesCount': 1,\n",
              "    'collateralReserve': [{'currentATokenBalance': '25730004407770812351',\n",
              "      'reserve': {'usageAsCollateralEnabled': True,\n",
              "       'reserveLiquidationThreshold': '8600',\n",
              "       'reserveLiquidationBonus': '10500',\n",
              "       'borrowingEnabled': True,\n",
              "       'utilizationRate': '0.6195913',\n",
              "       'symbol': 'WETH',\n",
              "       'underlyingAsset': '0xc02aaa39b223fe8d0a0e5c4f27ead9083c756cc2',\n",
              "       'price': {'priceInEth': '1000000000000000000'},\n",
              "       'decimals': 18}}],\n",
              "    'borrowReserve': [{'currentTotalDebt': '18426617138',\n",
              "      'reserve': {'usageAsCollateralEnabled': True,\n",
              "       'reserveLiquidationThreshold': '8900',\n",
              "       'borrowingEnabled': True,\n",
              "       'utilizationRate': '0.41999497',\n",
              "       'symbol': 'USDC',\n",
              "       'underlyingAsset': '0xa0b86991c6218b36c1d19d4a2e9eb0ce3606eb48',\n",
              "       'price': {'priceInEth': '822911476004608'},\n",
              "       'decimals': 6}}]},\n",
              "   {'id': '0xfffb40347816873ca038756cc87bc610144166b2',\n",
              "    'borrowedReservesCount': 1,\n",
              "    'collateralReserve': [{'currentATokenBalance': '1003420809121393',\n",
              "      'reserve': {'usageAsCollateralEnabled': True,\n",
              "       'reserveLiquidationThreshold': '8300',\n",
              "       'reserveLiquidationBonus': '10700',\n",
              "       'borrowingEnabled': False,\n",
              "       'utilizationRate': '-0.00003697',\n",
              "       'symbol': 'STETH',\n",
              "       'underlyingAsset': '0xae7ab96520de3a18e5e111b5eaab095312d7fe84',\n",
              "       'price': {'priceInEth': '989407310000000000'},\n",
              "       'decimals': 18}}],\n",
              "    'borrowReserve': [{'currentTotalDebt': '1900000',\n",
              "      'reserve': {'usageAsCollateralEnabled': True,\n",
              "       'reserveLiquidationThreshold': '8900',\n",
              "       'borrowingEnabled': True,\n",
              "       'utilizationRate': '0.41999497',\n",
              "       'symbol': 'USDC',\n",
              "       'underlyingAsset': '0xa0b86991c6218b36c1d19d4a2e9eb0ce3606eb48',\n",
              "       'price': {'priceInEth': '822911476004608'},\n",
              "       'decimals': 6}}]},\n",
              "   {'id': '0xfffa889f71003f256f0e14b48e54fa2dad1f2ff0',\n",
              "    'borrowedReservesCount': 1,\n",
              "    'collateralReserve': [{'currentATokenBalance': '1921806252001810',\n",
              "      'reserve': {'usageAsCollateralEnabled': True,\n",
              "       'reserveLiquidationThreshold': '8300',\n",
              "       'reserveLiquidationBonus': '10700',\n",
              "       'borrowingEnabled': False,\n",
              "       'utilizationRate': '-0.00003697',\n",
              "       'symbol': 'STETH',\n",
              "       'underlyingAsset': '0xae7ab96520de3a18e5e111b5eaab095312d7fe84',\n",
              "       'price': {'priceInEth': '989407310000000000'},\n",
              "       'decimals': 18}}],\n",
              "    'borrowReserve': [{'currentTotalDebt': '500000',\n",
              "      'reserve': {'usageAsCollateralEnabled': True,\n",
              "       'reserveLiquidationThreshold': '8900',\n",
              "       'borrowingEnabled': True,\n",
              "       'utilizationRate': '0.41999497',\n",
              "       'symbol': 'USDC',\n",
              "       'underlyingAsset': '0xa0b86991c6218b36c1d19d4a2e9eb0ce3606eb48',\n",
              "       'price': {'priceInEth': '822911476004608'},\n",
              "       'decimals': 6}}]},\n",
              "   {'id': '0xfffa5a749b80e9f08ed099909cc9e8244f4beb48',\n",
              "    'borrowedReservesCount': 1,\n",
              "    'collateralReserve': [{'currentATokenBalance': '99999999999999',\n",
              "      'reserve': {'usageAsCollateralEnabled': True,\n",
              "       'reserveLiquidationThreshold': '8300',\n",
              "       'reserveLiquidationBonus': '10700',\n",
              "       'borrowingEnabled': False,\n",
              "       'utilizationRate': '-0.00003697',\n",
              "       'symbol': 'STETH',\n",
              "       'underlyingAsset': '0xae7ab96520de3a18e5e111b5eaab095312d7fe84',\n",
              "       'price': {'priceInEth': '989407310000000000'},\n",
              "       'decimals': 18}}],\n",
              "    'borrowReserve': [{'currentTotalDebt': '100000',\n",
              "      'reserve': {'usageAsCollateralEnabled': True,\n",
              "       'reserveLiquidationThreshold': '8900',\n",
              "       'borrowingEnabled': True,\n",
              "       'utilizationRate': '0.41999497',\n",
              "       'symbol': 'USDC',\n",
              "       'underlyingAsset': '0xa0b86991c6218b36c1d19d4a2e9eb0ce3606eb48',\n",
              "       'price': {'priceInEth': '822911476004608'},\n",
              "       'decimals': 6}}]},\n",
              "   {'id': '0xfff6b41a29881fc97bd6e8778529b1e37597d94a',\n",
              "    'borrowedReservesCount': 1,\n",
              "    'collateralReserve': [{'currentATokenBalance': '21078035027053598',\n",
              "      'reserve': {'usageAsCollateralEnabled': True,\n",
              "       'reserveLiquidationThreshold': '8300',\n",
              "       'reserveLiquidationBonus': '10700',\n",
              "       'borrowingEnabled': False,\n",
              "       'utilizationRate': '-0.00003697',\n",
              "       'symbol': 'STETH',\n",
              "       'underlyingAsset': '0xae7ab96520de3a18e5e111b5eaab095312d7fe84',\n",
              "       'price': {'priceInEth': '989407310000000000'},\n",
              "       'decimals': 18}}],\n",
              "    'borrowReserve': [{'currentTotalDebt': '10000000',\n",
              "      'reserve': {'usageAsCollateralEnabled': True,\n",
              "       'reserveLiquidationThreshold': '8900',\n",
              "       'borrowingEnabled': True,\n",
              "       'utilizationRate': '0.41999497',\n",
              "       'symbol': 'USDC',\n",
              "       'underlyingAsset': '0xa0b86991c6218b36c1d19d4a2e9eb0ce3606eb48',\n",
              "       'price': {'priceInEth': '822911476004608'},\n",
              "       'decimals': 6}}]},\n",
              "   {'id': '0xfff2a069b8af43ad155a72e7579ca2327a8747a8',\n",
              "    'borrowedReservesCount': 1,\n",
              "    'collateralReserve': [{'currentATokenBalance': '9999999999999999',\n",
              "      'reserve': {'usageAsCollateralEnabled': True,\n",
              "       'reserveLiquidationThreshold': '8300',\n",
              "       'reserveLiquidationBonus': '10700',\n",
              "       'borrowingEnabled': False,\n",
              "       'utilizationRate': '-0.00003697',\n",
              "       'symbol': 'STETH',\n",
              "       'underlyingAsset': '0xae7ab96520de3a18e5e111b5eaab095312d7fe84',\n",
              "       'price': {'priceInEth': '989407310000000000'},\n",
              "       'decimals': 18}}],\n",
              "    'borrowReserve': [{'currentTotalDebt': '11000000',\n",
              "      'reserve': {'usageAsCollateralEnabled': True,\n",
              "       'reserveLiquidationThreshold': '8900',\n",
              "       'borrowingEnabled': True,\n",
              "       'utilizationRate': '0.41999497',\n",
              "       'symbol': 'USDC',\n",
              "       'underlyingAsset': '0xa0b86991c6218b36c1d19d4a2e9eb0ce3606eb48',\n",
              "       'price': {'priceInEth': '822911476004608'},\n",
              "       'decimals': 6}}]},\n",
              "   {'id': '0xfff2677022c3b2f53727db9a51b2cce5b4b6631c',\n",
              "    'borrowedReservesCount': 1,\n",
              "    'collateralReserve': [{'currentATokenBalance': '31081505483389472',\n",
              "      'reserve': {'usageAsCollateralEnabled': True,\n",
              "       'reserveLiquidationThreshold': '8600',\n",
              "       'reserveLiquidationBonus': '10500',\n",
              "       'borrowingEnabled': True,\n",
              "       'utilizationRate': '0.6195913',\n",
              "       'symbol': 'WETH',\n",
              "       'underlyingAsset': '0xc02aaa39b223fe8d0a0e5c4f27ead9083c756cc2',\n",
              "       'price': {'priceInEth': '1000000000000000000'},\n",
              "       'decimals': 18}}],\n",
              "    'borrowReserve': [{'currentTotalDebt': '61166757462003436567',\n",
              "      'reserve': {'usageAsCollateralEnabled': False,\n",
              "       'reserveLiquidationThreshold': '0',\n",
              "       'borrowingEnabled': True,\n",
              "       'utilizationRate': '0.41414581',\n",
              "       'symbol': 'BUSD',\n",
              "       'underlyingAsset': '0x4fabb145d64652a948d72533023f6e7a623c7c53',\n",
              "       'price': {'priceInEth': '827143800000000'},\n",
              "       'decimals': 18}},\n",
              "     {'currentTotalDebt': '68329614858446512',\n",
              "      'reserve': {'usageAsCollateralEnabled': True,\n",
              "       'reserveLiquidationThreshold': '8600',\n",
              "       'borrowingEnabled': True,\n",
              "       'utilizationRate': '0.6195913',\n",
              "       'symbol': 'WETH',\n",
              "       'underlyingAsset': '0xc02aaa39b223fe8d0a0e5c4f27ead9083c756cc2',\n",
              "       'price': {'priceInEth': '1000000000000000000'},\n",
              "       'decimals': 18}}]},\n",
              "   {'id': '0xffef69efa7f65e233252fdde813ba9f5032e2964',\n",
              "    'borrowedReservesCount': 1,\n",
              "    'collateralReserve': [{'currentATokenBalance': '7232693519978899732',\n",
              "      'reserve': {'usageAsCollateralEnabled': True,\n",
              "       'reserveLiquidationThreshold': '6500',\n",
              "       'reserveLiquidationBonus': '10750',\n",
              "       'borrowingEnabled': False,\n",
              "       'utilizationRate': '0.48018309',\n",
              "       'symbol': 'SNX',\n",
              "       'underlyingAsset': '0xc011a73ee8576fb46f5e1c5751ca3b9fe0af2a6f',\n",
              "       'price': {'priceInEth': '1340888500000000'},\n",
              "       'decimals': 18}},\n",
              "     {'currentATokenBalance': '588354161508395021',\n",
              "      'reserve': {'usageAsCollateralEnabled': True,\n",
              "       'reserveLiquidationThreshold': '8600',\n",
              "       'reserveLiquidationBonus': '10500',\n",
              "       'borrowingEnabled': True,\n",
              "       'utilizationRate': '0.6195913',\n",
              "       'symbol': 'WETH',\n",
              "       'underlyingAsset': '0xc02aaa39b223fe8d0a0e5c4f27ead9083c756cc2',\n",
              "       'price': {'priceInEth': '1000000000000000000'},\n",
              "       'decimals': 18}}],\n",
              "    'borrowReserve': [{'currentTotalDebt': '393923974845950950407',\n",
              "      'reserve': {'usageAsCollateralEnabled': False,\n",
              "       'reserveLiquidationThreshold': '0',\n",
              "       'borrowingEnabled': True,\n",
              "       'utilizationRate': '2.73009658',\n",
              "       'symbol': 'SUSD',\n",
              "       'underlyingAsset': '0x57ab1ec28d129707052df4df418d58a2d46d5f51',\n",
              "       'price': {'priceInEth': '829927786769908'},\n",
              "       'decimals': 18}},\n",
              "     {'currentTotalDebt': '221849283',\n",
              "      'reserve': {'usageAsCollateralEnabled': False,\n",
              "       'reserveLiquidationThreshold': '0',\n",
              "       'borrowingEnabled': True,\n",
              "       'utilizationRate': '0.69847104',\n",
              "       'symbol': 'USDT',\n",
              "       'underlyingAsset': '0xdac17f958d2ee523a2206206994597c13d831ec7',\n",
              "       'price': {'priceInEth': '829219759762486'},\n",
              "       'decimals': 6}}]},\n",
              "   {'id': '0xffeef43ac3862d96cd0cb3370e99b4f48ea75346',\n",
              "    'borrowedReservesCount': 1,\n",
              "    'collateralReserve': [{'currentATokenBalance': '513999999',\n",
              "      'reserve': {'usageAsCollateralEnabled': True,\n",
              "       'reserveLiquidationThreshold': '8900',\n",
              "       'reserveLiquidationBonus': '10450',\n",
              "       'borrowingEnabled': True,\n",
              "       'utilizationRate': '0.41999497',\n",
              "       'symbol': 'USDC',\n",
              "       'underlyingAsset': '0xa0b86991c6218b36c1d19d4a2e9eb0ce3606eb48',\n",
              "       'price': {'priceInEth': '822911476004608'},\n",
              "       'decimals': 6}}],\n",
              "    'borrowReserve': [{'currentTotalDebt': '415380589',\n",
              "      'reserve': {'usageAsCollateralEnabled': False,\n",
              "       'reserveLiquidationThreshold': '0',\n",
              "       'borrowingEnabled': True,\n",
              "       'utilizationRate': '0.69847104',\n",
              "       'symbol': 'USDT',\n",
              "       'underlyingAsset': '0xdac17f958d2ee523a2206206994597c13d831ec7',\n",
              "       'price': {'priceInEth': '829219759762486'},\n",
              "       'decimals': 6}}]}]}}"
            ]
          },
          "metadata": {},
          "execution_count": 4
        }
      ]
    },
    {
      "cell_type": "code",
      "source": [
        "result['data']['users'][0]"
      ],
      "metadata": {
        "colab": {
          "base_uri": "https://localhost:8080/",
          "height": 35
        },
        "id": "39MSiIav2gYs",
        "outputId": "059eb99a-9a78-4ae0-f550-bade3fe65203"
      },
      "execution_count": 61,
      "outputs": [
        {
          "output_type": "execute_result",
          "data": {
            "text/plain": [
              "'0xffff8941130157a0153fb5be2618b257f28d3b55'"
            ],
            "application/vnd.google.colaboratory.intrinsic+json": {
              "type": "string"
            }
          },
          "metadata": {},
          "execution_count": 61
        }
      ]
    },
    {
      "cell_type": "code",
      "source": [],
      "metadata": {
        "id": "l2Mrz2NzvZ6v"
      },
      "execution_count": null,
      "outputs": []
    },
    {
      "cell_type": "code",
      "source": [
        "def test():\n",
        "  datauser0=result['data']['users'][0]\n",
        "  #print('price in ETH', int(datauser0[\"borrowReserve\"][0]['reserve'][\"price\"][\"priceInEth\"]))\n",
        "  #print('principal_borrowed', int(datauser0[\"borrowReserve\"][0][\"currentTotalDebt\"]))\n",
        "  priceInEth=int(datauser0[\"borrowReserve\"][0]['reserve'][\"price\"][\"priceInEth\"])*(10**-18)\n",
        "  principal_borrowed=int(datauser0[\"borrowReserve\"][0][\"currentTotalDebt\"])*(10**-18)\n",
        "  \n",
        "  return priceInEth \n",
        "\n",
        "test()\n"
      ],
      "metadata": {
        "colab": {
          "base_uri": "https://localhost:8080/"
        },
        "id": "TYTRfvrWtbL1",
        "outputId": "2a160e81-0459-4779-e788-53d5409af009"
      },
      "execution_count": 59,
      "outputs": [
        {
          "output_type": "execute_result",
          "data": {
            "text/plain": [
              "0.38571668841571133"
            ]
          },
          "metadata": {},
          "execution_count": 59
        }
      ]
    },
    {
      "cell_type": "code",
      "source": [
        "def compute_total_borrowed(userdata):\n",
        "\n",
        "  \"\"\"Computes total borrowed  -across all reserves/currencies -(in ETH)\n",
        "  \"\"\"\n",
        "  total_borrowed = 0\n",
        "  # Three additional variables to detect the largest borrow across all currencies.\n",
        "  #max_borrowed_symbol = None\n",
        "  #max_borrowed_principal = 0\n",
        "  #max_borrowed_price_in_eth = 0\n",
        "\n",
        "  for borrow_reserve in userdata[\"borrowReserve\"]:\n",
        "            decimals=int(borrow_reserve[\"reserve\"][\"decimals\"])\n",
        "            price_in_eth = int(borrow_reserve[\"reserve\"][\"price\"][\"priceInEth\"]) / (10 **decimals )\n",
        "            principal_borrowed = int(borrow_reserve[\"currentTotalDebt\"]) / (10 **decimals )\n",
        "            total_borrowed += price_in_eth * principal_borrowed\n",
        "            \n",
        "            #if principal_borrowed > max_borrowed_principal:\n",
        "                #max_borrowed_symbol = borrow_reserve[\"reserve\"][\"symbol\"]\n",
        "                #max_borrowed_principal = principal_borrowed\n",
        "                #max_borrowed_price_in_eth = price_in_eth\n",
        "  \n",
        "  return  total_borrowed\n",
        "\n",
        "def compute_total_collateral_times_thresholds(userdata):\n",
        "\n",
        "    \"\"\"Computes total collateral times threshold -across all reserves/currencies - (in ETH)\n",
        "    \"\"\"\n",
        "    total_collateral=0\n",
        "    total_collateral_threshold=0\n",
        "\n",
        "    for collateral_reserve in userdata[\"collateralReserve\"]:\n",
        "        decimals=int(collateral_reserve[\"reserve\"][\"decimals\"])\n",
        "        price_in_eth = int(collateral_reserve[\"reserve\"][\"price\"][\"priceInEth\"])/ (10 ** decimals)\n",
        "        principal_a_token_balance = int(collateral_reserve[\"currentATokenBalance\"])/ (10 ** decimals)\n",
        "        total_collateral +=price_in_eth * principal_a_token_balance\n",
        "        liquidation_threshold=(int(collateral_reserve['reserve']['reserveLiquidationThreshold']) / 10000)\n",
        "\n",
        "        #sum of collateral times thresholds \n",
        "        total_collateral_threshold += price_in_eth * principal_a_token_balance \n",
        "            \n",
        "\n",
        "    return total_collateral_threshold\n",
        "\n",
        "def compute_health_factor(userdata):\n",
        "\n",
        "    \"\"\"Computes health factor\n",
        "    \"\"\"\n",
        "    total_borrowed=compute_total_borrowed(userdata)\n",
        "    total_collateral_threshold=compute_total_collateral_times_thresholds(userdata)\n",
        "    health_factor = total_collateral_threshold / total_borrowed\n",
        "    \n",
        "    return health_factor\n",
        "\n",
        "\n",
        "def parse_users(queryresult):\n",
        "  health_factors=[]\n",
        "  for userdata in queryresult['data']['users']:\n",
        "    health_factor=compute_health_factor(userdata)\n",
        "    health_factors.append(health_factor)\n",
        "  return health_factors\n",
        "\n",
        "\n",
        "  #for borrow_reserve in user[\"borrowReserve\"]:\n",
        "    #borrow_reserve[\"reserve\"][\"price\"][\"priceInEth\"]"
      ],
      "metadata": {
        "id": "VzgKvucL2zGF"
      },
      "execution_count": 62,
      "outputs": []
    },
    {
      "cell_type": "code",
      "source": [
        "parse_users(result)"
      ],
      "metadata": {
        "colab": {
          "base_uri": "https://localhost:8080/"
        },
        "id": "uJlBSkYNJpWj",
        "outputId": "531d9b6e-3b03-4bef-b52e-3422b100edc0"
      },
      "execution_count": 64,
      "outputs": [
        {
          "output_type": "execute_result",
          "data": {
            "text/plain": [
              "[1.3244331961924112,\n",
              " 1.6968409223663327e-12,\n",
              " 6.349675016212684e-13,\n",
              " 4.6212726631695325e-12,\n",
              " 1.2023253276327498e-12,\n",
              " 2.534265536975705e-12,\n",
              " 1.0930230251206927e-12,\n",
              " 0.26135753466403827,\n",
              " 3.2509595324524424e-12,\n",
              " 1.2280057397117004]"
            ]
          },
          "metadata": {},
          "execution_count": 64
        }
      ]
    },
    {
      "cell_type": "code",
      "source": [
        "compute_total_borrowed(datauser0)\n",
        "compute_total_collateral_times_thresholds(datauser0)"
      ],
      "metadata": {
        "id": "EWDe6NIA6Sx5"
      },
      "execution_count": null,
      "outputs": []
    },
    {
      "cell_type": "code",
      "source": [
        "def parse_users(payload):\n",
        "    loans = []\n",
        "\n",
        "    for user in payload[\"users\"]:\n",
        "        total_borrowed = 0\n",
        "        total_collateral = 0\n",
        "        total_collateral_threshold = 0\n",
        "        max_borrowed_symbol = None\n",
        "        max_borrowed_principal = 0\n",
        "        max_borrowed_price_in_eth = 0\n",
        "        max_collateral_symbol = None\n",
        "        max_collateral_bonus = 0\n",
        "        max_collateral_price_in_eth = 0\n",
        "\n",
        "        for borrow_reserve in user[\"borrowReserve\"]:\n",
        "            price_in_eth = borrow_reserve[\"reserve\"][\"price\"][\"priceInEth\"]\n",
        "            principal_borrowed = borrow_reserve[\"currentTotalDebt\"]\n",
        "            total_borrowed += (\n",
        "                price_in_eth * principal_borrowed\n",
        "                / 10 ** borrow_reserve[\"reserve\"][\"decimals\"]\n",
        "            )\n",
        "            if principal_borrowed > max_borrowed_principal:\n",
        "                max_borrowed_symbol = borrow_reserve[\"reserve\"][\"symbol\"]\n",
        "                max_borrowed_principal = principal_borrowed\n",
        "                max_borrowed_price_in_eth = price_in_eth\n",
        "\n",
        "        for collateral_reserve in user[\"collateralReserve\"]:\n",
        "            price_in_eth = collateral_reserve[\"reserve\"][\"price\"][\"priceInEth\"]\n",
        "            principal_a_token_balance = collateral_reserve[\"currentATokenBalance\"]\n",
        "            total_collateral += (\n",
        "                price_in_eth * principal_a_token_balance\n",
        "                / 10 ** collateral_reserve[\"reserve\"][\"decimals\"]\n",
        "            )\n",
        "            total_collateral_threshold += (price_in_eth * principal_a_token_balance * (collateral_reserve['reserve']['reserveLiquidationThreshold'] / 10000)) / 10**collateral_reserve['reserve']['decimals']\n",
        "            if collateral_reserve['reserve']['reserveLiquidationBonus'] > max_collateral_bonus:\n",
        "              max_collateral_symbol = collateral_reserve['reserve']['symbol']\n",
        "              max_collateral_bonus = collateral_reserve['reserve']['reserveLiquidationBonus']\n",
        "              max_collateral_price_in_eth = price_in_eth\n",
        "\n",
        "    health_factor = total_collateral_threshold / total_borrowed\n",
        "\n",
        "    if health_factor <= health_factor_max:\n",
        "        loans.append({\n",
        "            \"user_id\": user['id'],\n",
        "            \"healthFactor\": health_factor,\n",
        "            \"max_collateralSymbol\": max_collateral_symbol,\n",
        "            \"max_borrowedSymbol\": max_borrowed_symbol,\n",
        "            \"max_borrowedPrincipal\": max_borrowed_principal,\n",
        "            \"max_borrowedPriceInEth\": max_borrowed_price_in_eth,\n",
        "            \"max_collateralBonus\": max_collateral_bonus / 10000,\n",
        "            \"max_collateralPriceInEth\": max"
      ],
      "metadata": {
        "colab": {
          "base_uri": "https://localhost:8080/"
        },
        "id": "SY4mFDVFI-ik",
        "outputId": "3244d4f6-91b4-447d-bd11-2081cef94e54"
      },
      "execution_count": 13,
      "outputs": [
        {
          "output_type": "execute_result",
          "data": {
            "text/plain": [
              "{'errors': [{'locations': [{'line': 2, 'column': 1}],\n",
              "   'message': 'Unexpected `users[Name]`\\nExpected `{`, `query`, `mutation`, `subscription` or `fragment`'}]}"
            ]
          },
          "metadata": {},
          "execution_count": 13
        }
      ]
    },
    {
      "cell_type": "code",
      "source": [
        "    for i, borrow_reserve in enumerate(user['borrowReserve']):\n",
        "        price_in_eth = borrow_reserve['reserve']['price']['priceInEth']\n",
        "        principal_borrowed = borrow_reserve['currentTotalDebt']\n",
        "        total_borrowed += (price_in_eth * principal_borrowed) / 10**borrow_reserve['reserve']['decimals']\n",
        "        if principal_borrowed > max_borrowed_principal:\n",
        "            max_borrowed_symbol = borrow_reserve['reserve']['symbol']\n",
        "            max_borrowed_principal = principal_borrowed\n",
        "            max_borrowed_price_in_eth = price_in_eth\n",
        "\n",
        "    for i, collateral_reserve in enumerate(user['collateralReserve']):\n",
        "        price_in_eth = collateral_reserve['reserve']['price']['priceInEth']\n",
        "        principal_a_token_balance = collateral_reserve['currentATokenBalance']\n",
        "        total_collateral += (price_in_eth * principal_a_token_balance) / 10**collateral_reserve['reserve']['decimals']\n",
        "        total_collateral_threshold += (price_in_eth * principal_a_token_balance * (collateral_reserve['reserve']['reserveLiquidationThreshold'] / 10000)) / 10**collateral_reserve['reserve']['decimals']\n",
        "        if collateral_reserve['reserve']['reserveLiquidationBonus'] > max_collateral_bonus:\n",
        "            max_collateral_symbol = collateral_reserve['reserve']['symbol']\n",
        "            max_collateral_bonus = collateral_reserve['reserve']['reserveLiquidationBonus']\n",
        "            max_collateral_price_in_eth = price_in_eth\n",
        "\n",
        "    health_factor = total_collateral_threshold / total_borrowed\n",
        "\n",
        "    if health_factor <= health_factor_max:\n",
        "        loans.append({\n",
        "            \"user_id\": user['id'],\n",
        "            \"healthFactor\": health_factor,\n",
        "            \"max_collateralSymbol\": max_collateral_symbol,\n",
        "            \"max_borrowedSymbol\": max_borrowed_symbol,\n",
        "            \"max_borrowedPrincipal\": max_borrowed_principal,\n",
        "            \"max_borrowedPriceInEth\": max_borrowed_price_in_eth,\n",
        "            \"max_collateralBonus\": max_collateral_bonus / 10000,\n",
        "            \"max_collateralPriceInEth\": max\n"
      ],
      "metadata": {
        "id": "oDuqr93iQp-V"
      },
      "execution_count": null,
      "outputs": []
    }
  ]
}