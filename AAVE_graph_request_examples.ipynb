{
  "nbformat": 4,
  "nbformat_minor": 0,
  "metadata": {
    "colab": {
      "provenance": [],
      "authorship_tag": "ABX9TyOIsvKvznezTMMYGnOE28Ym",
      "include_colab_link": true
    },
    "kernelspec": {
      "name": "python3",
      "display_name": "Python 3"
    },
    "language_info": {
      "name": "python"
    }
  },
  "cells": [
    {
      "cell_type": "markdown",
      "metadata": {
        "id": "view-in-github",
        "colab_type": "text"
      },
      "source": [
        "<a href=\"https://colab.research.google.com/github/rpasquini/defidata/blob/main/AAVE_graph_request_examples.ipynb\" target=\"_parent\"><img src=\"https://colab.research.google.com/assets/colab-badge.svg\" alt=\"Open In Colab\"/></a>"
      ]
    },
    {
      "cell_type": "markdown",
      "source": [
        "# Examples of querys to AAVE's graph \n",
        "\n",
        "1. USD ETH Reference prices.\n",
        "Entiendo que estos son precios del oraculo que quedaron grabados en el Graph. Revisar\n",
        "\n",
        "usdEthPriceHistoryItems\n",
        "\n",
        "2. Liquidations\n",
        "\n",
        "Realizar time series plot con numero de liquidaciones\n",
        "\n",
        "\n",
        "# Links \n",
        "Graph QL Basics\n",
        "https://thegraph.com/docs/en/querying/graphql-api/\n",
        "\n",
        "https://graphql.org/learn/queries/\n",
        "\n",
        "AAVE's graph documentation \n",
        "https://docs.aave.com/developers/v/2.0/getting-started/using-graphql\n",
        "\n",
        "Playground\n",
        "\n",
        "https://thegraph.com/hosted-service/subgraph/aave/protocol-multy-raw\n"
      ],
      "metadata": {
        "id": "bzJdLIS3oqip"
      }
    },
    {
      "cell_type": "code",
      "source": [
        "import requests\n",
        "from pprint import pprint\n",
        "from datetime import datetime"
      ],
      "metadata": {
        "id": "KaJwGMacqATs"
      },
      "execution_count": 1,
      "outputs": []
    },
    {
      "cell_type": "code",
      "source": [
        "#(See https://thegraph.com/hosted-service/subgraph/aave/protocol-v2?version=current)\n",
        "subgraph_http_address='https://api.thegraph.com/subgraphs/name/aave/protocol-v2'\n",
        "\n",
        "# function to use requests.post to make an API call to the subgraph url\n",
        "def run_query(query):\n",
        "\n",
        "    # endpoint where you are making the request\n",
        "    request = requests.post(subgraph_http_address,\n",
        "                            json={'query': query})\n",
        "    if request.status_code == 200:\n",
        "        return request.json()\n",
        "    else:\n",
        "        raise Exception('Query failed. return code is {}.      {}'.format(request.status_code, query))"
      ],
      "metadata": {
        "id": "iMi99INhKzkv"
      },
      "execution_count": 2,
      "outputs": []
    },
    {
      "cell_type": "markdown",
      "source": [
        "The skip parameter can be used to skip entities and paginate. e.g. first:100 shows the first 100 entities and first:100, skip:100 shows the next 100 entities."
      ],
      "metadata": {
        "id": "tXDXN7LqDkBc"
      }
    },
    {
      "cell_type": "code",
      "source": [
        "# Note 'usdEthPriceHistoryItems' ending in plural (instead of usdEthPriceHistoryItem) is the call to the generic class of elements.\n",
        "# It allows retrieving several elements instead of only one. \n",
        "# example: obtain first 10 elements after skipping 5000\n",
        "query = \"\"\"\n",
        "{\n",
        "usdEthPriceHistoryItems(skip:5000, first: 10) {\n",
        "    id\n",
        "\t\tprice\n",
        "    timestamp\n",
        "  \toracle {\n",
        "  \t  id\n",
        "  \t}\n",
        "    }\n",
        "  }\n",
        "\"\"\"\n",
        "result = run_query(query)"
      ],
      "metadata": {
        "id": "80GHvUFNK2Vu"
      },
      "execution_count": null,
      "outputs": []
    },
    {
      "cell_type": "code",
      "source": [
        "result"
      ],
      "metadata": {
        "colab": {
          "base_uri": "https://localhost:8080/"
        },
        "id": "4yDU5k2UK6hX",
        "outputId": "5420d9ed-61ec-4f95-847a-cb1f39f2d2f2"
      },
      "execution_count": null,
      "outputs": [
        {
          "output_type": "execute_result",
          "data": {
            "text/plain": [
              "{'data': {'usdEthPriceHistoryItems': [{'id': '1143103747',\n",
              "    'price': '1853533762117476',\n",
              "    'timestamp': 1607682157,\n",
              "    'oracle': {'id': '1'}},\n",
              "   {'id': '1143103749',\n",
              "    'price': '1853533762117476',\n",
              "    'timestamp': 1607682157,\n",
              "    'oracle': {'id': '1'}},\n",
              "   {'id': '1143103751',\n",
              "    'price': '1853533762117476',\n",
              "    'timestamp': 1607682157,\n",
              "    'oracle': {'id': '1'}},\n",
              "   {'id': '1143103752',\n",
              "    'price': '1853533762117476',\n",
              "    'timestamp': 1607682157,\n",
              "    'oracle': {'id': '1'}},\n",
              "   {'id': '1143103753',\n",
              "    'price': '1853533762117476',\n",
              "    'timestamp': 1607682157,\n",
              "    'oracle': {'id': '1'}},\n",
              "   {'id': '1143103754',\n",
              "    'price': '1853533762117476',\n",
              "    'timestamp': 1607682157,\n",
              "    'oracle': {'id': '1'}},\n",
              "   {'id': '1143103759',\n",
              "    'price': '1853113346923434',\n",
              "    'timestamp': 1607682157,\n",
              "    'oracle': {'id': '1'}},\n",
              "   {'id': '1143103943',\n",
              "    'price': '1852693122401780',\n",
              "    'timestamp': 1607682166,\n",
              "    'oracle': {'id': '1'}},\n",
              "   {'id': '1143105240',\n",
              "    'price': '1852693122401780',\n",
              "    'timestamp': 1607682272,\n",
              "    'oracle': {'id': '1'}},\n",
              "   {'id': '1143105241',\n",
              "    'price': '1852693122401780',\n",
              "    'timestamp': 1607682272,\n",
              "    'oracle': {'id': '1'}}]}}"
            ]
          },
          "metadata": {},
          "execution_count": 16
        }
      ]
    },
    {
      "cell_type": "markdown",
      "source": [
        "Querying specific dates\n",
        "- Querys use timestamps"
      ],
      "metadata": {
        "id": "Wm8IUXc2CrbY"
      }
    },
    {
      "cell_type": "code",
      "source": [
        "from datetime import datetime\n",
        "timestamp = 1607682157\n",
        "dt_object = datetime.fromtimestamp(timestamp)\n",
        "dt_object"
      ],
      "metadata": {
        "colab": {
          "base_uri": "https://localhost:8080/"
        },
        "id": "JWH1KeNuNO72",
        "outputId": "3f86cf9a-c8e4-4654-e4a0-4ec3f23677c7"
      },
      "execution_count": 3,
      "outputs": [
        {
          "output_type": "execute_result",
          "data": {
            "text/plain": [
              "datetime.datetime(2020, 12, 11, 10, 22, 37)"
            ]
          },
          "metadata": {},
          "execution_count": 3
        }
      ]
    },
    {
      "cell_type": "markdown",
      "source": [
        "Get prices after Nov 4th 2022"
      ],
      "metadata": {
        "id": "9W1j60vCC7hd"
      }
    },
    {
      "cell_type": "code",
      "source": [
        "#datetime to timestamp\n",
        "datetime_as_timestamp=datetime(2022, 11, 4).timestamp()\n",
        "datetime_as_timestamp"
      ],
      "metadata": {
        "colab": {
          "base_uri": "https://localhost:8080/"
        },
        "id": "BqVXM76w6PKs",
        "outputId": "65365591-44ac-4b78-ad1e-43fb075f5d34"
      },
      "execution_count": null,
      "outputs": [
        {
          "output_type": "execute_result",
          "data": {
            "text/plain": [
              "1667520000.0"
            ]
          },
          "metadata": {},
          "execution_count": 4
        }
      ]
    },
    {
      "cell_type": "code",
      "source": [
        "str(int(datetime_as_timestamp))"
      ],
      "metadata": {
        "colab": {
          "base_uri": "https://localhost:8080/",
          "height": 35
        },
        "id": "j4oyTrXT3Ily",
        "outputId": "ee2c9452-ef1a-41f1-dd13-eb723b596212"
      },
      "execution_count": null,
      "outputs": [
        {
          "output_type": "execute_result",
          "data": {
            "text/plain": [
              "'1667520000'"
            ],
            "application/vnd.google.colaboratory.intrinsic+json": {
              "type": "string"
            }
          },
          "metadata": {},
          "execution_count": 38
        }
      ]
    },
    {
      "cell_type": "markdown",
      "source": [
        "Example 2: Using **where** to filter with _gt suffix \n",
        "- It is unrecommended to use big skip values. Preferable to use a filter in the query\n",
        "- Note the use of orderby and orderdirection "
      ],
      "metadata": {
        "id": "JeO2zUC2kBis"
      }
    },
    {
      "cell_type": "code",
      "source": [
        "query = \"\"\"\n",
        "{\n",
        "  usdEthPriceHistoryItems(first: 1000, orderBy: timestamp, orderDirection: asc, where: {timestamp_gt:\"\"\"+str(int(datetime_as_timestamp))+\"\"\"}) {\n",
        "    id\n",
        "    timestamp\n",
        "    price\n",
        "    oracle\n",
        "    }\n",
        "  }\n",
        "\"\"\"\n",
        "result = run_query(query)"
      ],
      "metadata": {
        "id": "u4BIxYOUzU0a"
      },
      "execution_count": null,
      "outputs": []
    },
    {
      "cell_type": "markdown",
      "source": [
        "Note: \n",
        "If a client needs to retrieve a large number of entities, it is much more performant to base queries on an attribute and filter by that attribute. For example, a client would retrieve a large number of tokens using this query:\n",
        "```\n",
        "query manyTokens($lastID: String) {\n",
        "  tokens(first: 1000, where: { id_gt: $lastID }) {\n",
        "    id\n",
        "    owner\n",
        "  }\n",
        "}\n",
        "```"
      ],
      "metadata": {
        "id": "ToACadlEA7hV"
      }
    },
    {
      "cell_type": "code",
      "source": [
        "import pandas as pd"
      ],
      "metadata": {
        "id": "zA_r9yWdYHad"
      },
      "execution_count": 7,
      "outputs": []
    },
    {
      "cell_type": "code",
      "source": [
        "df=pd.DataFrame.from_records(result['data']['usdEthPriceHistoryItems'])\n",
        "df.head()"
      ],
      "metadata": {
        "colab": {
          "base_uri": "https://localhost:8080/",
          "height": 185
        },
        "id": "UH8WLVXCHY0j",
        "outputId": "c10d5c4d-beed-4874-dfb1-b7609c45adcd"
      },
      "execution_count": 8,
      "outputs": [
        {
          "output_type": "error",
          "ename": "KeyError",
          "evalue": "ignored",
          "traceback": [
            "\u001b[0;31m---------------------------------------------------------------------------\u001b[0m",
            "\u001b[0;31mKeyError\u001b[0m                                  Traceback (most recent call last)",
            "\u001b[0;32m<ipython-input-8-e0a8d528823d>\u001b[0m in \u001b[0;36m<module>\u001b[0;34m\u001b[0m\n\u001b[0;32m----> 1\u001b[0;31m \u001b[0mdf\u001b[0m\u001b[0;34m=\u001b[0m\u001b[0mpd\u001b[0m\u001b[0;34m.\u001b[0m\u001b[0mDataFrame\u001b[0m\u001b[0;34m.\u001b[0m\u001b[0mfrom_records\u001b[0m\u001b[0;34m(\u001b[0m\u001b[0mresult\u001b[0m\u001b[0;34m[\u001b[0m\u001b[0;34m'data'\u001b[0m\u001b[0;34m]\u001b[0m\u001b[0;34m[\u001b[0m\u001b[0;34m'usdEthPriceHistoryItems'\u001b[0m\u001b[0;34m]\u001b[0m\u001b[0;34m)\u001b[0m\u001b[0;34m\u001b[0m\u001b[0;34m\u001b[0m\u001b[0m\n\u001b[0m\u001b[1;32m      2\u001b[0m \u001b[0mdf\u001b[0m\u001b[0;34m.\u001b[0m\u001b[0mhead\u001b[0m\u001b[0;34m(\u001b[0m\u001b[0;34m)\u001b[0m\u001b[0;34m\u001b[0m\u001b[0;34m\u001b[0m\u001b[0m\n",
            "\u001b[0;31mKeyError\u001b[0m: 'usdEthPriceHistoryItems'"
          ]
        }
      ]
    },
    {
      "cell_type": "code",
      "source": [
        "df['datetime']=df['timestamp'].apply(lambda x: datetime.fromtimestamp(x))"
      ],
      "metadata": {
        "id": "nfHcB5fiecpV"
      },
      "execution_count": null,
      "outputs": []
    },
    {
      "cell_type": "code",
      "source": [
        "df['ETHUSD']=1/(df['price'].astype(int)*1e-18)\n",
        "df"
      ],
      "metadata": {
        "colab": {
          "base_uri": "https://localhost:8080/",
          "height": 424
        },
        "id": "4GXbLdAgO8Ai",
        "outputId": "3da7edb9-af88-4c01-a5dd-f2823a4dd135"
      },
      "execution_count": null,
      "outputs": [
        {
          "output_type": "execute_result",
          "data": {
            "text/plain": [
              "              id   timestamp            price            datetime       ETHUSD\n",
              "0     1589304460  1667521415  649752999174408 2022-11-04 00:23:35  1539.046378\n",
              "1     1589320423  1667523335  649565859837487 2022-11-04 00:55:35  1539.489776\n",
              "2    15893503102  1667526923  650030226405527 2022-11-04 01:55:23  1538.390000\n",
              "3     1589380276  1667530535  648962169454092 2022-11-04 02:55:35  1540.921870\n",
              "4     1589405739  1667533619  645705924219251 2022-11-04 03:46:59  1548.692621\n",
              "..           ...         ...              ...                 ...          ...\n",
              "995  15943984100  1668136007  805483538705673 2022-11-11 03:06:47  1241.490300\n",
              "996   1594399256  1668136103  812502430992546 2022-11-11 03:08:23  1230.765548\n",
              "997    159440099  1668136307  808456252623197 2022-11-11 03:11:47  1236.925309\n",
              "998   1594405740  1668136883  813636548553761 2022-11-11 03:21:23  1229.050000\n",
              "999  15944074121  1668137087  818751417140086 2022-11-11 03:24:47  1221.371932\n",
              "\n",
              "[1000 rows x 5 columns]"
            ],
            "text/html": [
              "\n",
              "  <div id=\"df-e00c4b0b-885d-4fd1-b051-93e9a422d9b2\">\n",
              "    <div class=\"colab-df-container\">\n",
              "      <div>\n",
              "<style scoped>\n",
              "    .dataframe tbody tr th:only-of-type {\n",
              "        vertical-align: middle;\n",
              "    }\n",
              "\n",
              "    .dataframe tbody tr th {\n",
              "        vertical-align: top;\n",
              "    }\n",
              "\n",
              "    .dataframe thead th {\n",
              "        text-align: right;\n",
              "    }\n",
              "</style>\n",
              "<table border=\"1\" class=\"dataframe\">\n",
              "  <thead>\n",
              "    <tr style=\"text-align: right;\">\n",
              "      <th></th>\n",
              "      <th>id</th>\n",
              "      <th>timestamp</th>\n",
              "      <th>price</th>\n",
              "      <th>datetime</th>\n",
              "      <th>ETHUSD</th>\n",
              "    </tr>\n",
              "  </thead>\n",
              "  <tbody>\n",
              "    <tr>\n",
              "      <th>0</th>\n",
              "      <td>1589304460</td>\n",
              "      <td>1667521415</td>\n",
              "      <td>649752999174408</td>\n",
              "      <td>2022-11-04 00:23:35</td>\n",
              "      <td>1539.046378</td>\n",
              "    </tr>\n",
              "    <tr>\n",
              "      <th>1</th>\n",
              "      <td>1589320423</td>\n",
              "      <td>1667523335</td>\n",
              "      <td>649565859837487</td>\n",
              "      <td>2022-11-04 00:55:35</td>\n",
              "      <td>1539.489776</td>\n",
              "    </tr>\n",
              "    <tr>\n",
              "      <th>2</th>\n",
              "      <td>15893503102</td>\n",
              "      <td>1667526923</td>\n",
              "      <td>650030226405527</td>\n",
              "      <td>2022-11-04 01:55:23</td>\n",
              "      <td>1538.390000</td>\n",
              "    </tr>\n",
              "    <tr>\n",
              "      <th>3</th>\n",
              "      <td>1589380276</td>\n",
              "      <td>1667530535</td>\n",
              "      <td>648962169454092</td>\n",
              "      <td>2022-11-04 02:55:35</td>\n",
              "      <td>1540.921870</td>\n",
              "    </tr>\n",
              "    <tr>\n",
              "      <th>4</th>\n",
              "      <td>1589405739</td>\n",
              "      <td>1667533619</td>\n",
              "      <td>645705924219251</td>\n",
              "      <td>2022-11-04 03:46:59</td>\n",
              "      <td>1548.692621</td>\n",
              "    </tr>\n",
              "    <tr>\n",
              "      <th>...</th>\n",
              "      <td>...</td>\n",
              "      <td>...</td>\n",
              "      <td>...</td>\n",
              "      <td>...</td>\n",
              "      <td>...</td>\n",
              "    </tr>\n",
              "    <tr>\n",
              "      <th>995</th>\n",
              "      <td>15943984100</td>\n",
              "      <td>1668136007</td>\n",
              "      <td>805483538705673</td>\n",
              "      <td>2022-11-11 03:06:47</td>\n",
              "      <td>1241.490300</td>\n",
              "    </tr>\n",
              "    <tr>\n",
              "      <th>996</th>\n",
              "      <td>1594399256</td>\n",
              "      <td>1668136103</td>\n",
              "      <td>812502430992546</td>\n",
              "      <td>2022-11-11 03:08:23</td>\n",
              "      <td>1230.765548</td>\n",
              "    </tr>\n",
              "    <tr>\n",
              "      <th>997</th>\n",
              "      <td>159440099</td>\n",
              "      <td>1668136307</td>\n",
              "      <td>808456252623197</td>\n",
              "      <td>2022-11-11 03:11:47</td>\n",
              "      <td>1236.925309</td>\n",
              "    </tr>\n",
              "    <tr>\n",
              "      <th>998</th>\n",
              "      <td>1594405740</td>\n",
              "      <td>1668136883</td>\n",
              "      <td>813636548553761</td>\n",
              "      <td>2022-11-11 03:21:23</td>\n",
              "      <td>1229.050000</td>\n",
              "    </tr>\n",
              "    <tr>\n",
              "      <th>999</th>\n",
              "      <td>15944074121</td>\n",
              "      <td>1668137087</td>\n",
              "      <td>818751417140086</td>\n",
              "      <td>2022-11-11 03:24:47</td>\n",
              "      <td>1221.371932</td>\n",
              "    </tr>\n",
              "  </tbody>\n",
              "</table>\n",
              "<p>1000 rows × 5 columns</p>\n",
              "</div>\n",
              "      <button class=\"colab-df-convert\" onclick=\"convertToInteractive('df-e00c4b0b-885d-4fd1-b051-93e9a422d9b2')\"\n",
              "              title=\"Convert this dataframe to an interactive table.\"\n",
              "              style=\"display:none;\">\n",
              "        \n",
              "  <svg xmlns=\"http://www.w3.org/2000/svg\" height=\"24px\"viewBox=\"0 0 24 24\"\n",
              "       width=\"24px\">\n",
              "    <path d=\"M0 0h24v24H0V0z\" fill=\"none\"/>\n",
              "    <path d=\"M18.56 5.44l.94 2.06.94-2.06 2.06-.94-2.06-.94-.94-2.06-.94 2.06-2.06.94zm-11 1L8.5 8.5l.94-2.06 2.06-.94-2.06-.94L8.5 2.5l-.94 2.06-2.06.94zm10 10l.94 2.06.94-2.06 2.06-.94-2.06-.94-.94-2.06-.94 2.06-2.06.94z\"/><path d=\"M17.41 7.96l-1.37-1.37c-.4-.4-.92-.59-1.43-.59-.52 0-1.04.2-1.43.59L10.3 9.45l-7.72 7.72c-.78.78-.78 2.05 0 2.83L4 21.41c.39.39.9.59 1.41.59.51 0 1.02-.2 1.41-.59l7.78-7.78 2.81-2.81c.8-.78.8-2.07 0-2.86zM5.41 20L4 18.59l7.72-7.72 1.47 1.35L5.41 20z\"/>\n",
              "  </svg>\n",
              "      </button>\n",
              "      \n",
              "  <style>\n",
              "    .colab-df-container {\n",
              "      display:flex;\n",
              "      flex-wrap:wrap;\n",
              "      gap: 12px;\n",
              "    }\n",
              "\n",
              "    .colab-df-convert {\n",
              "      background-color: #E8F0FE;\n",
              "      border: none;\n",
              "      border-radius: 50%;\n",
              "      cursor: pointer;\n",
              "      display: none;\n",
              "      fill: #1967D2;\n",
              "      height: 32px;\n",
              "      padding: 0 0 0 0;\n",
              "      width: 32px;\n",
              "    }\n",
              "\n",
              "    .colab-df-convert:hover {\n",
              "      background-color: #E2EBFA;\n",
              "      box-shadow: 0px 1px 2px rgba(60, 64, 67, 0.3), 0px 1px 3px 1px rgba(60, 64, 67, 0.15);\n",
              "      fill: #174EA6;\n",
              "    }\n",
              "\n",
              "    [theme=dark] .colab-df-convert {\n",
              "      background-color: #3B4455;\n",
              "      fill: #D2E3FC;\n",
              "    }\n",
              "\n",
              "    [theme=dark] .colab-df-convert:hover {\n",
              "      background-color: #434B5C;\n",
              "      box-shadow: 0px 1px 3px 1px rgba(0, 0, 0, 0.15);\n",
              "      filter: drop-shadow(0px 1px 2px rgba(0, 0, 0, 0.3));\n",
              "      fill: #FFFFFF;\n",
              "    }\n",
              "  </style>\n",
              "\n",
              "      <script>\n",
              "        const buttonEl =\n",
              "          document.querySelector('#df-e00c4b0b-885d-4fd1-b051-93e9a422d9b2 button.colab-df-convert');\n",
              "        buttonEl.style.display =\n",
              "          google.colab.kernel.accessAllowed ? 'block' : 'none';\n",
              "\n",
              "        async function convertToInteractive(key) {\n",
              "          const element = document.querySelector('#df-e00c4b0b-885d-4fd1-b051-93e9a422d9b2');\n",
              "          const dataTable =\n",
              "            await google.colab.kernel.invokeFunction('convertToInteractive',\n",
              "                                                     [key], {});\n",
              "          if (!dataTable) return;\n",
              "\n",
              "          const docLinkHtml = 'Like what you see? Visit the ' +\n",
              "            '<a target=\"_blank\" href=https://colab.research.google.com/notebooks/data_table.ipynb>data table notebook</a>'\n",
              "            + ' to learn more about interactive tables.';\n",
              "          element.innerHTML = '';\n",
              "          dataTable['output_type'] = 'display_data';\n",
              "          await google.colab.output.renderOutput(dataTable, element);\n",
              "          const docLink = document.createElement('div');\n",
              "          docLink.innerHTML = docLinkHtml;\n",
              "          element.appendChild(docLink);\n",
              "        }\n",
              "      </script>\n",
              "    </div>\n",
              "  </div>\n",
              "  "
            ]
          },
          "metadata": {},
          "execution_count": 58
        }
      ]
    },
    {
      "cell_type": "code",
      "source": [
        "df.index=df.datetime"
      ],
      "metadata": {
        "id": "fb1GrE9vjcM2"
      },
      "execution_count": null,
      "outputs": []
    },
    {
      "cell_type": "code",
      "source": [
        "df"
      ],
      "metadata": {
        "colab": {
          "base_uri": "https://localhost:8080/",
          "height": 455
        },
        "id": "KljkhUnpjqto",
        "outputId": "157413a0-a96a-4d32-dcad-7ddf632a3f6c"
      },
      "execution_count": null,
      "outputs": [
        {
          "output_type": "execute_result",
          "data": {
            "text/plain": [
              "                              id   timestamp            price  \\\n",
              "datetime                                                        \n",
              "2022-11-04 00:23:35   1589304460  1667521415  649752999174408   \n",
              "2022-11-04 00:55:35   1589320423  1667523335  649565859837487   \n",
              "2022-11-04 01:55:23  15893503102  1667526923  650030226405527   \n",
              "2022-11-04 02:55:35   1589380276  1667530535  648962169454092   \n",
              "2022-11-04 03:46:59   1589405739  1667533619  645705924219251   \n",
              "...                          ...         ...              ...   \n",
              "2022-11-11 03:06:47  15943984100  1668136007  805483538705673   \n",
              "2022-11-11 03:08:23   1594399256  1668136103  812502430992546   \n",
              "2022-11-11 03:11:47    159440099  1668136307  808456252623197   \n",
              "2022-11-11 03:21:23   1594405740  1668136883  813636548553761   \n",
              "2022-11-11 03:24:47  15944074121  1668137087  818751417140086   \n",
              "\n",
              "                               datetime       ETHUSD  \n",
              "datetime                                              \n",
              "2022-11-04 00:23:35 2022-11-04 00:23:35  1539.046378  \n",
              "2022-11-04 00:55:35 2022-11-04 00:55:35  1539.489776  \n",
              "2022-11-04 01:55:23 2022-11-04 01:55:23  1538.390000  \n",
              "2022-11-04 02:55:35 2022-11-04 02:55:35  1540.921870  \n",
              "2022-11-04 03:46:59 2022-11-04 03:46:59  1548.692621  \n",
              "...                                 ...          ...  \n",
              "2022-11-11 03:06:47 2022-11-11 03:06:47  1241.490300  \n",
              "2022-11-11 03:08:23 2022-11-11 03:08:23  1230.765548  \n",
              "2022-11-11 03:11:47 2022-11-11 03:11:47  1236.925309  \n",
              "2022-11-11 03:21:23 2022-11-11 03:21:23  1229.050000  \n",
              "2022-11-11 03:24:47 2022-11-11 03:24:47  1221.371932  \n",
              "\n",
              "[1000 rows x 5 columns]"
            ],
            "text/html": [
              "\n",
              "  <div id=\"df-d0acc71d-1cb4-4bac-a7fc-da20d7c64110\">\n",
              "    <div class=\"colab-df-container\">\n",
              "      <div>\n",
              "<style scoped>\n",
              "    .dataframe tbody tr th:only-of-type {\n",
              "        vertical-align: middle;\n",
              "    }\n",
              "\n",
              "    .dataframe tbody tr th {\n",
              "        vertical-align: top;\n",
              "    }\n",
              "\n",
              "    .dataframe thead th {\n",
              "        text-align: right;\n",
              "    }\n",
              "</style>\n",
              "<table border=\"1\" class=\"dataframe\">\n",
              "  <thead>\n",
              "    <tr style=\"text-align: right;\">\n",
              "      <th></th>\n",
              "      <th>id</th>\n",
              "      <th>timestamp</th>\n",
              "      <th>price</th>\n",
              "      <th>datetime</th>\n",
              "      <th>ETHUSD</th>\n",
              "    </tr>\n",
              "    <tr>\n",
              "      <th>datetime</th>\n",
              "      <th></th>\n",
              "      <th></th>\n",
              "      <th></th>\n",
              "      <th></th>\n",
              "      <th></th>\n",
              "    </tr>\n",
              "  </thead>\n",
              "  <tbody>\n",
              "    <tr>\n",
              "      <th>2022-11-04 00:23:35</th>\n",
              "      <td>1589304460</td>\n",
              "      <td>1667521415</td>\n",
              "      <td>649752999174408</td>\n",
              "      <td>2022-11-04 00:23:35</td>\n",
              "      <td>1539.046378</td>\n",
              "    </tr>\n",
              "    <tr>\n",
              "      <th>2022-11-04 00:55:35</th>\n",
              "      <td>1589320423</td>\n",
              "      <td>1667523335</td>\n",
              "      <td>649565859837487</td>\n",
              "      <td>2022-11-04 00:55:35</td>\n",
              "      <td>1539.489776</td>\n",
              "    </tr>\n",
              "    <tr>\n",
              "      <th>2022-11-04 01:55:23</th>\n",
              "      <td>15893503102</td>\n",
              "      <td>1667526923</td>\n",
              "      <td>650030226405527</td>\n",
              "      <td>2022-11-04 01:55:23</td>\n",
              "      <td>1538.390000</td>\n",
              "    </tr>\n",
              "    <tr>\n",
              "      <th>2022-11-04 02:55:35</th>\n",
              "      <td>1589380276</td>\n",
              "      <td>1667530535</td>\n",
              "      <td>648962169454092</td>\n",
              "      <td>2022-11-04 02:55:35</td>\n",
              "      <td>1540.921870</td>\n",
              "    </tr>\n",
              "    <tr>\n",
              "      <th>2022-11-04 03:46:59</th>\n",
              "      <td>1589405739</td>\n",
              "      <td>1667533619</td>\n",
              "      <td>645705924219251</td>\n",
              "      <td>2022-11-04 03:46:59</td>\n",
              "      <td>1548.692621</td>\n",
              "    </tr>\n",
              "    <tr>\n",
              "      <th>...</th>\n",
              "      <td>...</td>\n",
              "      <td>...</td>\n",
              "      <td>...</td>\n",
              "      <td>...</td>\n",
              "      <td>...</td>\n",
              "    </tr>\n",
              "    <tr>\n",
              "      <th>2022-11-11 03:06:47</th>\n",
              "      <td>15943984100</td>\n",
              "      <td>1668136007</td>\n",
              "      <td>805483538705673</td>\n",
              "      <td>2022-11-11 03:06:47</td>\n",
              "      <td>1241.490300</td>\n",
              "    </tr>\n",
              "    <tr>\n",
              "      <th>2022-11-11 03:08:23</th>\n",
              "      <td>1594399256</td>\n",
              "      <td>1668136103</td>\n",
              "      <td>812502430992546</td>\n",
              "      <td>2022-11-11 03:08:23</td>\n",
              "      <td>1230.765548</td>\n",
              "    </tr>\n",
              "    <tr>\n",
              "      <th>2022-11-11 03:11:47</th>\n",
              "      <td>159440099</td>\n",
              "      <td>1668136307</td>\n",
              "      <td>808456252623197</td>\n",
              "      <td>2022-11-11 03:11:47</td>\n",
              "      <td>1236.925309</td>\n",
              "    </tr>\n",
              "    <tr>\n",
              "      <th>2022-11-11 03:21:23</th>\n",
              "      <td>1594405740</td>\n",
              "      <td>1668136883</td>\n",
              "      <td>813636548553761</td>\n",
              "      <td>2022-11-11 03:21:23</td>\n",
              "      <td>1229.050000</td>\n",
              "    </tr>\n",
              "    <tr>\n",
              "      <th>2022-11-11 03:24:47</th>\n",
              "      <td>15944074121</td>\n",
              "      <td>1668137087</td>\n",
              "      <td>818751417140086</td>\n",
              "      <td>2022-11-11 03:24:47</td>\n",
              "      <td>1221.371932</td>\n",
              "    </tr>\n",
              "  </tbody>\n",
              "</table>\n",
              "<p>1000 rows × 5 columns</p>\n",
              "</div>\n",
              "      <button class=\"colab-df-convert\" onclick=\"convertToInteractive('df-d0acc71d-1cb4-4bac-a7fc-da20d7c64110')\"\n",
              "              title=\"Convert this dataframe to an interactive table.\"\n",
              "              style=\"display:none;\">\n",
              "        \n",
              "  <svg xmlns=\"http://www.w3.org/2000/svg\" height=\"24px\"viewBox=\"0 0 24 24\"\n",
              "       width=\"24px\">\n",
              "    <path d=\"M0 0h24v24H0V0z\" fill=\"none\"/>\n",
              "    <path d=\"M18.56 5.44l.94 2.06.94-2.06 2.06-.94-2.06-.94-.94-2.06-.94 2.06-2.06.94zm-11 1L8.5 8.5l.94-2.06 2.06-.94-2.06-.94L8.5 2.5l-.94 2.06-2.06.94zm10 10l.94 2.06.94-2.06 2.06-.94-2.06-.94-.94-2.06-.94 2.06-2.06.94z\"/><path d=\"M17.41 7.96l-1.37-1.37c-.4-.4-.92-.59-1.43-.59-.52 0-1.04.2-1.43.59L10.3 9.45l-7.72 7.72c-.78.78-.78 2.05 0 2.83L4 21.41c.39.39.9.59 1.41.59.51 0 1.02-.2 1.41-.59l7.78-7.78 2.81-2.81c.8-.78.8-2.07 0-2.86zM5.41 20L4 18.59l7.72-7.72 1.47 1.35L5.41 20z\"/>\n",
              "  </svg>\n",
              "      </button>\n",
              "      \n",
              "  <style>\n",
              "    .colab-df-container {\n",
              "      display:flex;\n",
              "      flex-wrap:wrap;\n",
              "      gap: 12px;\n",
              "    }\n",
              "\n",
              "    .colab-df-convert {\n",
              "      background-color: #E8F0FE;\n",
              "      border: none;\n",
              "      border-radius: 50%;\n",
              "      cursor: pointer;\n",
              "      display: none;\n",
              "      fill: #1967D2;\n",
              "      height: 32px;\n",
              "      padding: 0 0 0 0;\n",
              "      width: 32px;\n",
              "    }\n",
              "\n",
              "    .colab-df-convert:hover {\n",
              "      background-color: #E2EBFA;\n",
              "      box-shadow: 0px 1px 2px rgba(60, 64, 67, 0.3), 0px 1px 3px 1px rgba(60, 64, 67, 0.15);\n",
              "      fill: #174EA6;\n",
              "    }\n",
              "\n",
              "    [theme=dark] .colab-df-convert {\n",
              "      background-color: #3B4455;\n",
              "      fill: #D2E3FC;\n",
              "    }\n",
              "\n",
              "    [theme=dark] .colab-df-convert:hover {\n",
              "      background-color: #434B5C;\n",
              "      box-shadow: 0px 1px 3px 1px rgba(0, 0, 0, 0.15);\n",
              "      filter: drop-shadow(0px 1px 2px rgba(0, 0, 0, 0.3));\n",
              "      fill: #FFFFFF;\n",
              "    }\n",
              "  </style>\n",
              "\n",
              "      <script>\n",
              "        const buttonEl =\n",
              "          document.querySelector('#df-d0acc71d-1cb4-4bac-a7fc-da20d7c64110 button.colab-df-convert');\n",
              "        buttonEl.style.display =\n",
              "          google.colab.kernel.accessAllowed ? 'block' : 'none';\n",
              "\n",
              "        async function convertToInteractive(key) {\n",
              "          const element = document.querySelector('#df-d0acc71d-1cb4-4bac-a7fc-da20d7c64110');\n",
              "          const dataTable =\n",
              "            await google.colab.kernel.invokeFunction('convertToInteractive',\n",
              "                                                     [key], {});\n",
              "          if (!dataTable) return;\n",
              "\n",
              "          const docLinkHtml = 'Like what you see? Visit the ' +\n",
              "            '<a target=\"_blank\" href=https://colab.research.google.com/notebooks/data_table.ipynb>data table notebook</a>'\n",
              "            + ' to learn more about interactive tables.';\n",
              "          element.innerHTML = '';\n",
              "          dataTable['output_type'] = 'display_data';\n",
              "          await google.colab.output.renderOutput(dataTable, element);\n",
              "          const docLink = document.createElement('div');\n",
              "          docLink.innerHTML = docLinkHtml;\n",
              "          element.appendChild(docLink);\n",
              "        }\n",
              "      </script>\n",
              "    </div>\n",
              "  </div>\n",
              "  "
            ]
          },
          "metadata": {},
          "execution_count": 60
        }
      ]
    },
    {
      "cell_type": "code",
      "source": [
        "df.ETHUSD.plot()"
      ],
      "metadata": {
        "colab": {
          "base_uri": "https://localhost:8080/",
          "height": 307
        },
        "id": "tTg4VW00jiCI",
        "outputId": "97b445d1-f616-4f5a-a7c5-005c6bafd0c7"
      },
      "execution_count": null,
      "outputs": [
        {
          "output_type": "execute_result",
          "data": {
            "text/plain": [
              "<matplotlib.axes._subplots.AxesSubplot at 0x7f3fbb637450>"
            ]
          },
          "metadata": {},
          "execution_count": 61
        },
        {
          "output_type": "display_data",
          "data": {
            "text/plain": [
              "<Figure size 432x288 with 1 Axes>"
            ],
            "image/png": "[encoded data removed]"
          },
          "metadata": {
            "needs_background": "light"
          }
        }
      ]
    },
    {
      "cell_type": "code",
      "source": [
        "df.plot.scatter('datetime','ETHUSD')"
      ],
      "metadata": {
        "colab": {
          "base_uri": "https://localhost:8080/",
          "height": 301
        },
        "id": "jABSi8bQPKff",
        "outputId": "2c15124a-4686-4001-a006-21fdfccde716"
      },
      "execution_count": null,
      "outputs": [
        {
          "output_type": "execute_result",
          "data": {
            "text/plain": [
              "<matplotlib.axes._subplots.AxesSubplot at 0x7f3fb9d73610>"
            ]
          },
          "metadata": {},
          "execution_count": 62
        },
        {
          "output_type": "display_data",
          "data": {
            "text/plain": [
              "<Figure size 432x288 with 1 Axes>"
            ],
            "image/png": "[encoded data removed]"
          },
          "metadata": {
            "needs_background": "light"
          }
        }
      ]
    },
    {
      "cell_type": "markdown",
      "source": [
        "# Liquidaciones\n",
        "\n",
        "* liquidator: Es la address del liquidador  \n",
        "* user{id}:    Es el address del usuario liquidado\n",
        "* principalAmount: El monto de la deuda (principal) que se repaga  \n",
        "* collateralAmount: Monto del colateral que se obtiene\n",
        " \n",
        "* CollateralReserve: Se refiere los datos de la reserva de la moneda (en el * protocolo) del colateral del prestamo que se está liquidando \\\\\n",
        "* principalReserve: Se refiere a los datos de la reserva de la moneda  (en el protocolo) en la que se tomó el crédito.\n"
      ],
      "metadata": {
        "id": "tIBxxgXfq_iz"
      }
    },
    {
      "cell_type": "code",
      "source": [
        "query = \"\"\"\n",
        "\n",
        "{liquidationCalls(first: 10){\n",
        "  id\n",
        "  action\n",
        "  \n",
        "  liquidator\n",
        "  principalAmount\n",
        "  collateralAmount\n",
        "  \n",
        "\n",
        "  timestamp\n",
        "  collateralReserve{id underlyingAsset symbol}\n",
        "  principalUserReserve{id }\n",
        "  pool{id }\n",
        "  user{id}\n",
        " \n",
        "  collateralAssetPriceUSD\n",
        "  borrowAssetPriceUSD\n",
        "  \n",
        "}}\n",
        "\"\"\"\n",
        "result = run_query(query)"
      ],
      "metadata": {
        "id": "Eg40TIcFrBTm"
      },
      "execution_count": 9,
      "outputs": []
    },
    {
      "cell_type": "code",
      "source": [
        "result"
      ],
      "metadata": {
        "colab": {
          "base_uri": "https://localhost:8080/"
        },
        "id": "KUMQd1Qg0Ic4",
        "outputId": "070439bf-e543-4875-ac9b-63823bbcddb0"
      },
      "execution_count": null,
      "outputs": [
        {
          "output_type": "execute_result",
          "data": {
            "text/plain": [
              "{'data': {'liquidationCalls': [{'id': '11471171:28:0x9ef1c383398cee036a85ca024db051b7a1c8bc692e703fe1b230da9e2305eb4a:56:56',\n",
              "    'action': 'LiquidationCall',\n",
              "    'liquidator': '0x7a512a3cf68df453ec76d487e3eaffecd74d6887',\n",
              "    'timestamp': 1608214767,\n",
              "    'collateralAmount': '17805688961227928811',\n",
              "    'collateralReserve': {'id': '0x6b175474e89094c44da98b954eedeac495271d0f0xb53c1a33016b2dc2ff3653530bff1848a515c8c5',\n",
              "     'underlyingAsset': '0x6b175474e89094c44da98b954eedeac495271d0f',\n",
              "     'symbol': 'DAI'},\n",
              "    'principalAmount': '74305',\n",
              "    'principalUserReserve': {'id': '0xa53fe221bd861f75907d8fd496db1c70779721aa0x2260fac5e5542a773aa44fbcfedf7c193bc2c5990xb53c1a33016b2dc2ff3653530bff1848a515c8c5'},\n",
              "    'pool': {'id': '0xb53c1a33016b2dc2ff3653530bff1848a515c8c5'},\n",
              "    'user': {'id': '0xa53fe221bd861f75907d8fd496db1c70779721aa'},\n",
              "    'collateralAssetPriceUSD': '1.001979417875997056779844810469726',\n",
              "    'borrowAssetPriceUSD': '22867.05548912266602380709495821367'},\n",
              "   {'id': '11471182:9:0xfb7d5af93bc4ff393d477fdb3d1d25673d190961956a5f719baff5ebe6f5281c:18:18',\n",
              "    'action': 'LiquidationCall',\n",
              "    'liquidator': '0x08b5cabc97b3e4fef88d8f2ccb0442a669e052f8',\n",
              "    'timestamp': 1608214863,\n",
              "    'collateralAmount': '5688207158',\n",
              "    'collateralReserve': {'id': '0xa0b86991c6218b36c1d19d4a2e9eb0ce3606eb480xb53c1a33016b2dc2ff3653530bff1848a515c8c5',\n",
              "     'underlyingAsset': '0xa0b86991c6218b36c1d19d4a2e9eb0ce3606eb48',\n",
              "     'symbol': 'USDC'},\n",
              "    'principalAmount': '8167385241296071654',\n",
              "    'principalUserReserve': {'id': '0x9a90affd5fd50561a98a6fb4358f941a131ac5920xc02aaa39b223fe8d0a0e5c4f27ead9083c756cc20xb53c1a33016b2dc2ff3653530bff1848a515c8c5'},\n",
              "    'pool': {'id': '0xb53c1a33016b2dc2ff3653530bff1848a515c8c5'},\n",
              "    'user': {'id': '0x9a90affd5fd50561a98a6fb4358f941a131ac592'},\n",
              "    'collateralAssetPriceUSD': '0.9993526030530144144532983537198182',\n",
              "    'borrowAssetPriceUSD': '662.8600000000002730718056000001125'},\n",
              "   {'id': '11471183:106:0x244535eb180f2a9ac51a2cc0562c3d0c9c82426150b4351b597bf273ff3942c9:217:217',\n",
              "    'action': 'LiquidationCall',\n",
              "    'liquidator': '0x7a512a3cf68df453ec76d487e3eaffecd74d6887',\n",
              "    'timestamp': 1608214892,\n",
              "    'collateralAmount': '2844105251',\n",
              "    'collateralReserve': {'id': '0xa0b86991c6218b36c1d19d4a2e9eb0ce3606eb480xb53c1a33016b2dc2ff3653530bff1848a515c8c5',\n",
              "     'underlyingAsset': '0xa0b86991c6218b36c1d19d4a2e9eb0ce3606eb48',\n",
              "     'symbol': 'USDC'},\n",
              "    'principalAmount': '4083695022036374424',\n",
              "    'principalUserReserve': {'id': '0x9a90affd5fd50561a98a6fb4358f941a131ac5920xc02aaa39b223fe8d0a0e5c4f27ead9083c756cc20xb53c1a33016b2dc2ff3653530bff1848a515c8c5'},\n",
              "    'pool': {'id': '0xb53c1a33016b2dc2ff3653530bff1848a515c8c5'},\n",
              "    'user': {'id': '0x9a90affd5fd50561a98a6fb4358f941a131ac592'},\n",
              "    'collateralAssetPriceUSD': '0.9993526030530144144532983537198182',\n",
              "    'borrowAssetPriceUSD': '662.8600000000002730718056000001125'},\n",
              "   {'id': '11471194:24:0x1d36e93bef68afbf45a62d6050ee2c57c98de0f5478540a90c6a1339d70cd132:67:67',\n",
              "    'action': 'LiquidationCall',\n",
              "    'liquidator': '0x7a512a3cf68df453ec76d487e3eaffecd74d6887',\n",
              "    'timestamp': 1608215016,\n",
              "    'collateralAmount': '22993655376305648',\n",
              "    'collateralReserve': {'id': '0xc02aaa39b223fe8d0a0e5c4f27ead9083c756cc20xb53c1a33016b2dc2ff3653530bff1848a515c8c5',\n",
              "     'underlyingAsset': '0xc02aaa39b223fe8d0a0e5c4f27ead9083c756cc2',\n",
              "     'symbol': 'WETH'},\n",
              "    'principalAmount': '63378',\n",
              "    'principalUserReserve': {'id': '0xa0b38f17b0ca2536a0e7606fcf01ef13d9b0793c0x2260fac5e5542a773aa44fbcfedf7c193bc2c5990xb53c1a33016b2dc2ff3653530bff1848a515c8c5'},\n",
              "    'pool': {'id': '0xb53c1a33016b2dc2ff3653530bff1848a515c8c5'},\n",
              "    'user': {'id': '0xa0b38f17b0ca2536a0e7606fcf01ef13d9b0793c'},\n",
              "    'collateralAssetPriceUSD': '662.8600000000002730718056000001125',\n",
              "    'borrowAssetPriceUSD': '22903.50775579022974572905507534305'},\n",
              "   {'id': '11471465:190:0xa98aab4f98c13a57fbe920fcfedb910abcc5a66ced3f18d60bd010de46fee951:312:312',\n",
              "    'action': 'LiquidationCall',\n",
              "    'liquidator': '0x7a512a3cf68df453ec76d487e3eaffecd74d6887',\n",
              "    'timestamp': 1608218435,\n",
              "    'collateralAmount': '8902964295491571753',\n",
              "    'collateralReserve': {'id': '0x6b175474e89094c44da98b954eedeac495271d0f0xb53c1a33016b2dc2ff3653530bff1848a515c8c5',\n",
              "     'underlyingAsset': '0x6b175474e89094c44da98b954eedeac495271d0f',\n",
              "     'symbol': 'DAI'},\n",
              "    'principalAmount': '37153',\n",
              "    'principalUserReserve': {'id': '0xa53fe221bd861f75907d8fd496db1c70779721aa0x2260fac5e5542a773aa44fbcfedf7c193bc2c5990xb53c1a33016b2dc2ff3653530bff1848a515c8c5'},\n",
              "    'pool': {'id': '0xb53c1a33016b2dc2ff3653530bff1848a515c8c5'},\n",
              "    'user': {'id': '0xa53fe221bd861f75907d8fd496db1c70779721aa'},\n",
              "    'collateralAssetPriceUSD': '1.004197412700000308921250068901095',\n",
              "    'borrowAssetPriceUSD': '22917.67430405060510296414615508765'},\n",
              "   {'id': '11473955:98:0x878553b6d4652da95c24d309888183fff3aab678a4d970ca412ba59a26997c0d:149:149',\n",
              "    'action': 'LiquidationCall',\n",
              "    'liquidator': '0x0ebe59b1dfdc730cc087cbc5c7bd351a1ce880bc',\n",
              "    'timestamp': 1608251659,\n",
              "    'collateralAmount': '639370942691206815706',\n",
              "    'collateralReserve': {'id': '0x514910771af9ca656af840dff83e8264ecf986ca0xb53c1a33016b2dc2ff3653530bff1848a515c8c5',\n",
              "     'underlyingAsset': '0x514910771af9ca656af840dff83e8264ecf986ca',\n",
              "     'symbol': 'LINK'},\n",
              "    'principalAmount': '7698000148973651260321',\n",
              "    'principalUserReserve': {'id': '0xa842db65486e996ca467833480b7e50f8a1234430x57ab1ec28d129707052df4df418d58a2d46d5f510xb53c1a33016b2dc2ff3653530bff1848a515c8c5'},\n",
              "    'pool': {'id': '0xb53c1a33016b2dc2ff3653530bff1848a515c8c5'},\n",
              "    'user': {'id': '0xa842db65486e996ca467833480b7e50f8a123443'},\n",
              "    'collateralAssetPriceUSD': '13.28226855415571156996411815571296',\n",
              "    'borrowAssetPriceUSD': '1.002892888613717009149310939385131'},\n",
              "   {'id': '11492730:68:0xeae528d15f87693cf09f68e4564d504392d9646e4a0a4a48adc5f834e9a17046:95:95',\n",
              "    'action': 'LiquidationCall',\n",
              "    'liquidator': '0xfdee74e6148dd4953d54314f2b37e168b57969ff',\n",
              "    'timestamp': 1608500518,\n",
              "    'collateralAmount': '4841975408877584714',\n",
              "    'collateralReserve': {'id': '0xc02aaa39b223fe8d0a0e5c4f27ead9083c756cc20xb53c1a33016b2dc2ff3653530bff1848a515c8c5',\n",
              "     'underlyingAsset': '0xc02aaa39b223fe8d0a0e5c4f27ead9083c756cc2',\n",
              "     'symbol': 'WETH'},\n",
              "    'principalAmount': '2931766694414801509830',\n",
              "    'principalUserReserve': {'id': '0xe6cb101eba87c46db7bb1e27ad2bd73482837a1c0x6b175474e89094c44da98b954eedeac495271d0f0xb53c1a33016b2dc2ff3653530bff1848a515c8c5'},\n",
              "    'pool': {'id': '0xb53c1a33016b2dc2ff3653530bff1848a515c8c5'},\n",
              "    'user': {'id': '0xe6cb101eba87c46db7bb1e27ad2bd73482837a1c'},\n",
              "    'collateralAssetPriceUSD': '636.1416904500003123048307019166223',\n",
              "    'borrowAssetPriceUSD': '1.000593626325709991227391259351674'},\n",
              "   {'id': '11492824:57:0x3768e343ee811dbe3e23e8bcc3168a8125ebc3779b72550e52822eb6e81b40f2:98:98',\n",
              "    'action': 'LiquidationCall',\n",
              "    'liquidator': '0x7a512a3cf68df453ec76d487e3eaffecd74d6887',\n",
              "    'timestamp': 1608501799,\n",
              "    'collateralAmount': '4162660116579479844081',\n",
              "    'collateralReserve': {'id': '0x0d8775f648430679a709e98d2b0cb6250d2887ef0xb53c1a33016b2dc2ff3653530bff1848a515c8c5',\n",
              "     'underlyingAsset': '0x0d8775f648430679a709e98d2b0cb6250d2887ef',\n",
              "     'symbol': 'BAT'},\n",
              "    'principalAmount': '874141349',\n",
              "    'principalUserReserve': {'id': '0x41d8ecd552c35d1f5dc1a6b6b8a9087b1f6e39e60xa0b86991c6218b36c1d19d4a2e9eb0ce3606eb480xb53c1a33016b2dc2ff3653530bff1848a515c8c5'},\n",
              "    'pool': {'id': '0xb53c1a33016b2dc2ff3653530bff1848a515c8c5'},\n",
              "    'user': {'id': '0x41d8ecd552c35d1f5dc1a6b6b8a9087b1f6e39e6'},\n",
              "    'collateralAssetPriceUSD': '0.2329859468939923322421662362918924',\n",
              "    'borrowAssetPriceUSD': '1.008617105406668693238103511177193'},\n",
              "   {'id': '11502178:92:0x368c7f16b248e7eb0f5df6b8eea11d25c1ddd59050869b6c2306cd4a44ea4d66:175:175',\n",
              "    'action': 'LiquidationCall',\n",
              "    'liquidator': '0x0ebe59b1dfdc730cc087cbc5c7bd351a1ce880bc',\n",
              "    'timestamp': 1608625548,\n",
              "    'collateralAmount': '639447464',\n",
              "    'collateralReserve': {'id': '0x2260fac5e5542a773aa44fbcfedf7c193bc2c5990xb53c1a33016b2dc2ff3653530bff1848a515c8c5',\n",
              "     'underlyingAsset': '0x2260fac5e5542a773aa44fbcfedf7c193bc2c599',\n",
              "     'symbol': 'WBTC'},\n",
              "    'principalAmount': '129404769185841004091620',\n",
              "    'principalUserReserve': {'id': '0x5382859146010ac16e142b6708f8e178e77f66bc0x4fabb145d64652a948d72533023f6e7a623c7c530xb53c1a33016b2dc2ff3653530bff1848a515c8c5'},\n",
              "    'pool': {'id': '0xb53c1a33016b2dc2ff3653530bff1848a515c8c5'},\n",
              "    'user': {'id': '0x5382859146010ac16e142b6708f8e178e77f66bc'},\n",
              "    'collateralAssetPriceUSD': '22276.11827584289450528242826638989',\n",
              "    'borrowAssetPriceUSD': '1.000694279800000494342974221200244'},\n",
              "   {'id': '11502586:107:0xe4cd7ff0d68ece60648049e92d693f668c26bf240b14a41cb52afcb1effc590b:214:214',\n",
              "    'action': 'LiquidationCall',\n",
              "    'liquidator': '0x0ebe59b1dfdc730cc087cbc5c7bd351a1ce880bc',\n",
              "    'timestamp': 1608631047,\n",
              "    'collateralAmount': '37416876763',\n",
              "    'collateralReserve': {'id': '0xa0b86991c6218b36c1d19d4a2e9eb0ce3606eb480xb53c1a33016b2dc2ff3653530bff1848a515c8c5',\n",
              "     'underlyingAsset': '0xa0b86991c6218b36c1d19d4a2e9eb0ce3606eb48',\n",
              "     'symbol': 'USDC'},\n",
              "    'principalAmount': '1470955956377611463',\n",
              "    'principalUserReserve': {'id': '0x0afde4bfb50f3b908440c7e04ba7d45aa9f5ce7f0x0bc529c00c6401aef6d220be8c6ea1667f6ad93e0xb53c1a33016b2dc2ff3653530bff1848a515c8c5'},\n",
              "    'pool': {'id': '0xb53c1a33016b2dc2ff3653530bff1848a515c8c5'},\n",
              "    'user': {'id': '0x0afde4bfb50f3b908440c7e04ba7d45aa9f5ce7f'},\n",
              "    'collateralAssetPriceUSD': '0.9963785742554671834074123203773385',\n",
              "    'borrowAssetPriceUSD': '24138.09239440209202086132802740205'}]}}"
            ]
          },
          "metadata": {},
          "execution_count": 10
        }
      ]
    },
    {
      "cell_type": "code",
      "source": [
        "start=datetime(2022, 11, 22).timestamp()\n",
        "end=datetime(2022, 11, 23).timestamp()"
      ],
      "metadata": {
        "id": "6wwpqcGaxdK7"
      },
      "execution_count": null,
      "outputs": []
    },
    {
      "cell_type": "code",
      "source": [
        "print(start, end)"
      ],
      "metadata": {
        "colab": {
          "base_uri": "https://localhost:8080/"
        },
        "id": "9HWClsj6bvfH",
        "outputId": "dd7c35ec-d480-4060-af16-1a38de7dee5a"
      },
      "execution_count": null,
      "outputs": [
        {
          "output_type": "stream",
          "name": "stdout",
          "text": [
            "1669075200.0 1669161600.0\n"
          ]
        }
      ]
    },
    {
      "cell_type": "markdown",
      "source": [
        "Combining conditions\n",
        "\n",
        "```(where: { _or: [{ someField: \"1\" }, { someField2: \"2\" }] })``` \\\\\n",
        "\n",
        "```where: {\n",
        "    and: [{ name: { contains: \"a\" } }, { endDate: { gte: \"2017-12-31\" } }]\n",
        "  }```"
      ],
      "metadata": {
        "id": "iWC33QVqL3Gz"
      }
    },
    {
      "cell_type": "code",
      "source": [
        "query=\"\"\"\n",
        "{liquidationCalls(first: 10, \n",
        "filter:{timestamp: { between: [1669075200, 1669161600]}}\n",
        "){\n",
        "  id\n",
        "  action\n",
        "  \n",
        "  liquidator\n",
        "  timestamp\n",
        "  collateralAmount\n",
        "  collateralReserve{id underlyingAsset symbol}\n",
        "  principalAmount\n",
        "  principalUserReserve{id }\n",
        "  pool{id }\n",
        "  user{id}\n",
        " \n",
        "  collateralAssetPriceUSD\n",
        "  borrowAssetPriceUSD\n",
        "  \n",
        "}}\n",
        "\"\"\"\n",
        "result = run_query(query)\n",
        "result"
      ],
      "metadata": {
        "colab": {
          "base_uri": "https://localhost:8080/"
        },
        "id": "pe033gDNLEDK",
        "outputId": "1f4b874d-8630-46ca-a217-8acbbf531131"
      },
      "execution_count": null,
      "outputs": [
        {
          "output_type": "execute_result",
          "data": {
            "text/plain": [
              "{'data': {'liquidationCalls': [{'id': '11471171:28:0x9ef1c383398cee036a85ca024db051b7a1c8bc692e703fe1b230da9e2305eb4a:56:56',\n",
              "    'action': 'LiquidationCall',\n",
              "    'liquidator': '0x7a512a3cf68df453ec76d487e3eaffecd74d6887',\n",
              "    'timestamp': 1608214767,\n",
              "    'collateralAmount': '17805688961227928811',\n",
              "    'collateralReserve': {'id': '0x6b175474e89094c44da98b954eedeac495271d0f0xb53c1a33016b2dc2ff3653530bff1848a515c8c5',\n",
              "     'underlyingAsset': '0x6b175474e89094c44da98b954eedeac495271d0f',\n",
              "     'symbol': 'DAI'},\n",
              "    'principalAmount': '74305',\n",
              "    'principalUserReserve': {'id': '0xa53fe221bd861f75907d8fd496db1c70779721aa0x2260fac5e5542a773aa44fbcfedf7c193bc2c5990xb53c1a33016b2dc2ff3653530bff1848a515c8c5'},\n",
              "    'pool': {'id': '0xb53c1a33016b2dc2ff3653530bff1848a515c8c5'},\n",
              "    'user': {'id': '0xa53fe221bd861f75907d8fd496db1c70779721aa'},\n",
              "    'collateralAssetPriceUSD': '1.001979417875997056779844810469726',\n",
              "    'borrowAssetPriceUSD': '22867.05548912266602380709495821367'},\n",
              "   {'id': '11471182:9:0xfb7d5af93bc4ff393d477fdb3d1d25673d190961956a5f719baff5ebe6f5281c:18:18',\n",
              "    'action': 'LiquidationCall',\n",
              "    'liquidator': '0x08b5cabc97b3e4fef88d8f2ccb0442a669e052f8',\n",
              "    'timestamp': 1608214863,\n",
              "    'collateralAmount': '5688207158',\n",
              "    'collateralReserve': {'id': '0xa0b86991c6218b36c1d19d4a2e9eb0ce3606eb480xb53c1a33016b2dc2ff3653530bff1848a515c8c5',\n",
              "     'underlyingAsset': '0xa0b86991c6218b36c1d19d4a2e9eb0ce3606eb48',\n",
              "     'symbol': 'USDC'},\n",
              "    'principalAmount': '8167385241296071654',\n",
              "    'principalUserReserve': {'id': '0x9a90affd5fd50561a98a6fb4358f941a131ac5920xc02aaa39b223fe8d0a0e5c4f27ead9083c756cc20xb53c1a33016b2dc2ff3653530bff1848a515c8c5'},\n",
              "    'pool': {'id': '0xb53c1a33016b2dc2ff3653530bff1848a515c8c5'},\n",
              "    'user': {'id': '0x9a90affd5fd50561a98a6fb4358f941a131ac592'},\n",
              "    'collateralAssetPriceUSD': '0.9993526030530144144532983537198182',\n",
              "    'borrowAssetPriceUSD': '662.8600000000002730718056000001125'},\n",
              "   {'id': '11471183:106:0x244535eb180f2a9ac51a2cc0562c3d0c9c82426150b4351b597bf273ff3942c9:217:217',\n",
              "    'action': 'LiquidationCall',\n",
              "    'liquidator': '0x7a512a3cf68df453ec76d487e3eaffecd74d6887',\n",
              "    'timestamp': 1608214892,\n",
              "    'collateralAmount': '2844105251',\n",
              "    'collateralReserve': {'id': '0xa0b86991c6218b36c1d19d4a2e9eb0ce3606eb480xb53c1a33016b2dc2ff3653530bff1848a515c8c5',\n",
              "     'underlyingAsset': '0xa0b86991c6218b36c1d19d4a2e9eb0ce3606eb48',\n",
              "     'symbol': 'USDC'},\n",
              "    'principalAmount': '4083695022036374424',\n",
              "    'principalUserReserve': {'id': '0x9a90affd5fd50561a98a6fb4358f941a131ac5920xc02aaa39b223fe8d0a0e5c4f27ead9083c756cc20xb53c1a33016b2dc2ff3653530bff1848a515c8c5'},\n",
              "    'pool': {'id': '0xb53c1a33016b2dc2ff3653530bff1848a515c8c5'},\n",
              "    'user': {'id': '0x9a90affd5fd50561a98a6fb4358f941a131ac592'},\n",
              "    'collateralAssetPriceUSD': '0.9993526030530144144532983537198182',\n",
              "    'borrowAssetPriceUSD': '662.8600000000002730718056000001125'},\n",
              "   {'id': '11471194:24:0x1d36e93bef68afbf45a62d6050ee2c57c98de0f5478540a90c6a1339d70cd132:67:67',\n",
              "    'action': 'LiquidationCall',\n",
              "    'liquidator': '0x7a512a3cf68df453ec76d487e3eaffecd74d6887',\n",
              "    'timestamp': 1608215016,\n",
              "    'collateralAmount': '22993655376305648',\n",
              "    'collateralReserve': {'id': '0xc02aaa39b223fe8d0a0e5c4f27ead9083c756cc20xb53c1a33016b2dc2ff3653530bff1848a515c8c5',\n",
              "     'underlyingAsset': '0xc02aaa39b223fe8d0a0e5c4f27ead9083c756cc2',\n",
              "     'symbol': 'WETH'},\n",
              "    'principalAmount': '63378',\n",
              "    'principalUserReserve': {'id': '0xa0b38f17b0ca2536a0e7606fcf01ef13d9b0793c0x2260fac5e5542a773aa44fbcfedf7c193bc2c5990xb53c1a33016b2dc2ff3653530bff1848a515c8c5'},\n",
              "    'pool': {'id': '0xb53c1a33016b2dc2ff3653530bff1848a515c8c5'},\n",
              "    'user': {'id': '0xa0b38f17b0ca2536a0e7606fcf01ef13d9b0793c'},\n",
              "    'collateralAssetPriceUSD': '662.8600000000002730718056000001125',\n",
              "    'borrowAssetPriceUSD': '22903.50775579022974572905507534305'},\n",
              "   {'id': '11471465:190:0xa98aab4f98c13a57fbe920fcfedb910abcc5a66ced3f18d60bd010de46fee951:312:312',\n",
              "    'action': 'LiquidationCall',\n",
              "    'liquidator': '0x7a512a3cf68df453ec76d487e3eaffecd74d6887',\n",
              "    'timestamp': 1608218435,\n",
              "    'collateralAmount': '8902964295491571753',\n",
              "    'collateralReserve': {'id': '0x6b175474e89094c44da98b954eedeac495271d0f0xb53c1a33016b2dc2ff3653530bff1848a515c8c5',\n",
              "     'underlyingAsset': '0x6b175474e89094c44da98b954eedeac495271d0f',\n",
              "     'symbol': 'DAI'},\n",
              "    'principalAmount': '37153',\n",
              "    'principalUserReserve': {'id': '0xa53fe221bd861f75907d8fd496db1c70779721aa0x2260fac5e5542a773aa44fbcfedf7c193bc2c5990xb53c1a33016b2dc2ff3653530bff1848a515c8c5'},\n",
              "    'pool': {'id': '0xb53c1a33016b2dc2ff3653530bff1848a515c8c5'},\n",
              "    'user': {'id': '0xa53fe221bd861f75907d8fd496db1c70779721aa'},\n",
              "    'collateralAssetPriceUSD': '1.004197412700000308921250068901095',\n",
              "    'borrowAssetPriceUSD': '22917.67430405060510296414615508765'},\n",
              "   {'id': '11473955:98:0x878553b6d4652da95c24d309888183fff3aab678a4d970ca412ba59a26997c0d:149:149',\n",
              "    'action': 'LiquidationCall',\n",
              "    'liquidator': '0x0ebe59b1dfdc730cc087cbc5c7bd351a1ce880bc',\n",
              "    'timestamp': 1608251659,\n",
              "    'collateralAmount': '639370942691206815706',\n",
              "    'collateralReserve': {'id': '0x514910771af9ca656af840dff83e8264ecf986ca0xb53c1a33016b2dc2ff3653530bff1848a515c8c5',\n",
              "     'underlyingAsset': '0x514910771af9ca656af840dff83e8264ecf986ca',\n",
              "     'symbol': 'LINK'},\n",
              "    'principalAmount': '7698000148973651260321',\n",
              "    'principalUserReserve': {'id': '0xa842db65486e996ca467833480b7e50f8a1234430x57ab1ec28d129707052df4df418d58a2d46d5f510xb53c1a33016b2dc2ff3653530bff1848a515c8c5'},\n",
              "    'pool': {'id': '0xb53c1a33016b2dc2ff3653530bff1848a515c8c5'},\n",
              "    'user': {'id': '0xa842db65486e996ca467833480b7e50f8a123443'},\n",
              "    'collateralAssetPriceUSD': '13.28226855415571156996411815571296',\n",
              "    'borrowAssetPriceUSD': '1.002892888613717009149310939385131'},\n",
              "   {'id': '11492730:68:0xeae528d15f87693cf09f68e4564d504392d9646e4a0a4a48adc5f834e9a17046:95:95',\n",
              "    'action': 'LiquidationCall',\n",
              "    'liquidator': '0xfdee74e6148dd4953d54314f2b37e168b57969ff',\n",
              "    'timestamp': 1608500518,\n",
              "    'collateralAmount': '4841975408877584714',\n",
              "    'collateralReserve': {'id': '0xc02aaa39b223fe8d0a0e5c4f27ead9083c756cc20xb53c1a33016b2dc2ff3653530bff1848a515c8c5',\n",
              "     'underlyingAsset': '0xc02aaa39b223fe8d0a0e5c4f27ead9083c756cc2',\n",
              "     'symbol': 'WETH'},\n",
              "    'principalAmount': '2931766694414801509830',\n",
              "    'principalUserReserve': {'id': '0xe6cb101eba87c46db7bb1e27ad2bd73482837a1c0x6b175474e89094c44da98b954eedeac495271d0f0xb53c1a33016b2dc2ff3653530bff1848a515c8c5'},\n",
              "    'pool': {'id': '0xb53c1a33016b2dc2ff3653530bff1848a515c8c5'},\n",
              "    'user': {'id': '0xe6cb101eba87c46db7bb1e27ad2bd73482837a1c'},\n",
              "    'collateralAssetPriceUSD': '636.1416904500003123048307019166223',\n",
              "    'borrowAssetPriceUSD': '1.000593626325709991227391259351674'},\n",
              "   {'id': '11492824:57:0x3768e343ee811dbe3e23e8bcc3168a8125ebc3779b72550e52822eb6e81b40f2:98:98',\n",
              "    'action': 'LiquidationCall',\n",
              "    'liquidator': '0x7a512a3cf68df453ec76d487e3eaffecd74d6887',\n",
              "    'timestamp': 1608501799,\n",
              "    'collateralAmount': '4162660116579479844081',\n",
              "    'collateralReserve': {'id': '0x0d8775f648430679a709e98d2b0cb6250d2887ef0xb53c1a33016b2dc2ff3653530bff1848a515c8c5',\n",
              "     'underlyingAsset': '0x0d8775f648430679a709e98d2b0cb6250d2887ef',\n",
              "     'symbol': 'BAT'},\n",
              "    'principalAmount': '874141349',\n",
              "    'principalUserReserve': {'id': '0x41d8ecd552c35d1f5dc1a6b6b8a9087b1f6e39e60xa0b86991c6218b36c1d19d4a2e9eb0ce3606eb480xb53c1a33016b2dc2ff3653530bff1848a515c8c5'},\n",
              "    'pool': {'id': '0xb53c1a33016b2dc2ff3653530bff1848a515c8c5'},\n",
              "    'user': {'id': '0x41d8ecd552c35d1f5dc1a6b6b8a9087b1f6e39e6'},\n",
              "    'collateralAssetPriceUSD': '0.2329859468939923322421662362918924',\n",
              "    'borrowAssetPriceUSD': '1.008617105406668693238103511177193'},\n",
              "   {'id': '11502178:92:0x368c7f16b248e7eb0f5df6b8eea11d25c1ddd59050869b6c2306cd4a44ea4d66:175:175',\n",
              "    'action': 'LiquidationCall',\n",
              "    'liquidator': '0x0ebe59b1dfdc730cc087cbc5c7bd351a1ce880bc',\n",
              "    'timestamp': 1608625548,\n",
              "    'collateralAmount': '639447464',\n",
              "    'collateralReserve': {'id': '0x2260fac5e5542a773aa44fbcfedf7c193bc2c5990xb53c1a33016b2dc2ff3653530bff1848a515c8c5',\n",
              "     'underlyingAsset': '0x2260fac5e5542a773aa44fbcfedf7c193bc2c599',\n",
              "     'symbol': 'WBTC'},\n",
              "    'principalAmount': '129404769185841004091620',\n",
              "    'principalUserReserve': {'id': '0x5382859146010ac16e142b6708f8e178e77f66bc0x4fabb145d64652a948d72533023f6e7a623c7c530xb53c1a33016b2dc2ff3653530bff1848a515c8c5'},\n",
              "    'pool': {'id': '0xb53c1a33016b2dc2ff3653530bff1848a515c8c5'},\n",
              "    'user': {'id': '0x5382859146010ac16e142b6708f8e178e77f66bc'},\n",
              "    'collateralAssetPriceUSD': '22276.11827584289450528242826638989',\n",
              "    'borrowAssetPriceUSD': '1.000694279800000494342974221200244'},\n",
              "   {'id': '11502586:107:0xe4cd7ff0d68ece60648049e92d693f668c26bf240b14a41cb52afcb1effc590b:214:214',\n",
              "    'action': 'LiquidationCall',\n",
              "    'liquidator': '0x0ebe59b1dfdc730cc087cbc5c7bd351a1ce880bc',\n",
              "    'timestamp': 1608631047,\n",
              "    'collateralAmount': '37416876763',\n",
              "    'collateralReserve': {'id': '0xa0b86991c6218b36c1d19d4a2e9eb0ce3606eb480xb53c1a33016b2dc2ff3653530bff1848a515c8c5',\n",
              "     'underlyingAsset': '0xa0b86991c6218b36c1d19d4a2e9eb0ce3606eb48',\n",
              "     'symbol': 'USDC'},\n",
              "    'principalAmount': '1470955956377611463',\n",
              "    'principalUserReserve': {'id': '0x0afde4bfb50f3b908440c7e04ba7d45aa9f5ce7f0x0bc529c00c6401aef6d220be8c6ea1667f6ad93e0xb53c1a33016b2dc2ff3653530bff1848a515c8c5'},\n",
              "    'pool': {'id': '0xb53c1a33016b2dc2ff3653530bff1848a515c8c5'},\n",
              "    'user': {'id': '0x0afde4bfb50f3b908440c7e04ba7d45aa9f5ce7f'},\n",
              "    'collateralAssetPriceUSD': '0.9963785742554671834074123203773385',\n",
              "    'borrowAssetPriceUSD': '24138.09239440209202086132802740205'}]}}"
            ]
          },
          "metadata": {},
          "execution_count": 6
        }
      ]
    },
    {
      "cell_type": "markdown",
      "source": [
        "https://aave.blockanalitica.com/wallets/0x57e04786e231af3343562c062e0d058f25dace9e/"
      ],
      "metadata": {
        "id": "pioKKV47KlLI"
      }
    },
    {
      "cell_type": "markdown",
      "source": [
        "Query a las liquidaciones que liquidaron al usuario \"0x57e04786e231af3343562c062e0d058f25dace9e\", que es el famoso Aavi que tomo un prestamo en CRV (usando USDC como colateral). \n",
        "El protocolo lo liquidó a tiempo, los liquidadores salieron a pagar el CRV y se llevaron el colateral en USDC.\n",
        "\n",
        "En el query estamos pidiendo las liquidationCalls que tienen al usuario que fue liquidado (un nested object con id del usuario) con el id \"0x57e04786e231af3343562c062e0d058f25dace9e\".\n",
        "Además estoy filtrando los resultados, quedandome solo con los timestamp entre el 22 y 23 de noviembre (que es la fecha en que ocurrió el ataque).\n",
        "\n",
        "\n",
        "Notar el uso del guion bajo cuando nos referimos al contenido del objeto user.\n",
        "Notar tambien el uso del between."
      ],
      "metadata": {
        "id": "Z-YkvpDPcn_b"
      }
    },
    {
      "cell_type": "code",
      "source": [],
      "metadata": {
        "id": "0kvjDeyBehG5"
      },
      "execution_count": null,
      "outputs": []
    },
    {
      "cell_type": "code",
      "source": [
        "query=\"\"\"\n",
        "{\n",
        "  liquidationCalls(first: 1000, \n",
        "    where:{user_:{id:\"0x57e04786e231af3343562c062e0d058f25dace9e\"}},\n",
        "    filter:{timestamp: { between: [1669075200, 1669161600]}}\n",
        "  ) \n",
        "  {\n",
        "    id\n",
        "    liquidator\n",
        "    timestamp\n",
        "    user{id}\n",
        "    principalAmount\n",
        "    collateralAmount\n",
        "    collateralReserve{id underlyingAsset symbol decimals}\n",
        "    collateralUserReserve{id reserve{id underlyingAsset symbol decimals totalLiquidity totalDeposits} }\n",
        " \n",
        "    principalReserve{id underlyingAsset symbol decimals}\n",
        "    collateralAssetPriceUSD\n",
        "    borrowAssetPriceUSD\n",
        "\n",
        "}}\n",
        "\"\"\"\n",
        "result = run_query(query)\n"
      ],
      "metadata": {
        "id": "T1LNk1VQVnyu"
      },
      "execution_count": 10,
      "outputs": []
    },
    {
      "cell_type": "code",
      "source": [
        "df=pd.DataFrame.from_records(result['data']['liquidationCalls'])"
      ],
      "metadata": {
        "id": "mxy4QpINk3-_"
      },
      "execution_count": 11,
      "outputs": []
    },
    {
      "cell_type": "markdown",
      "source": [
        "Número de liquidaciones y bloques"
      ],
      "metadata": {
        "id": "6-wARtAsHZiX"
      }
    },
    {
      "cell_type": "code",
      "source": [
        "df.shape[0]"
      ],
      "metadata": {
        "colab": {
          "base_uri": "https://localhost:8080/"
        },
        "id": "iGeyRLMfHYcO",
        "outputId": "42779689-a499-43ab-d50a-20abe4e14c64"
      },
      "execution_count": 12,
      "outputs": [
        {
          "output_type": "execute_result",
          "data": {
            "text/plain": [
              "385"
            ]
          },
          "metadata": {},
          "execution_count": 12
        }
      ]
    },
    {
      "cell_type": "code",
      "source": [
        "print('number of blocks', df.timestamp.unique().shape[0])"
      ],
      "metadata": {
        "colab": {
          "base_uri": "https://localhost:8080/"
        },
        "id": "sBmc6uEoHhwK",
        "outputId": "04713c16-ee11-4185-d386-86cd6073d962"
      },
      "execution_count": 13,
      "outputs": [
        {
          "output_type": "stream",
          "name": "stdout",
          "text": [
            "number of blocks 216\n"
          ]
        }
      ]
    },
    {
      "cell_type": "markdown",
      "source": [
        "\n",
        "Cuento el número de liquidadores"
      ],
      "metadata": {
        "id": "-6DG_lqWG8Vn"
      }
    },
    {
      "cell_type": "code",
      "source": [
        "df['liquidator'].unique()"
      ],
      "metadata": {
        "colab": {
          "base_uri": "https://localhost:8080/"
        },
        "id": "Zs_el8GJGOOq",
        "outputId": "61a96aee-fa77-498e-e5b4-4431b0650053"
      },
      "execution_count": null,
      "outputs": [
        {
          "output_type": "execute_result",
          "data": {
            "text/plain": [
              "array(['0xc2a54f74ebbbba5ed92d6a0b5dcb0b0ffb96f36e',\n",
              "       '0xabcf5d4be599f1c7f71fcbcae4643a2aa849f4c8',\n",
              "       '0x80d4230c0a68fc59cb264329d3a717fcaa472a13',\n",
              "       '0x7719494eb8f3ca261f5c806d754853dc5ce2edf7',\n",
              "       '0x6c6b87d44d239b3750bf9badce26a9a0a3d2364e',\n",
              "       '0x9bae78d1c67826cde91b20b49690589ed0879fc7',\n",
              "       '0xcda3d75a1a247bf3fa9efd0727db54d7cf0c90c2',\n",
              "       '0xe3b9ed955bf1c8c520bb9420abac6e62bb110b29',\n",
              "       '0x0000000000bb00d4f9ace884c5709edfcf587e1c',\n",
              "       '0x4f381fb46dfde2bc9dcae2d881705749b1ed6e1a',\n",
              "       '0xd911560979b78821d7b045c79e36e9cbfc2f6c6f',\n",
              "       '0x45cb6131d548344c7f150d958026fe0923ea86e4',\n",
              "       '0xd542aa8f1789edf123ad816c1b59ed9fed15c50e',\n",
              "       '0xc37704a457b1ee87eb657cae584a34961e86acac',\n",
              "       '0x8bc110db7029197c3621bea8092ab1996d5dd7be',\n",
              "       '0x30be05fe3ed386b8d8afb327b03f50c9d97dcb85',\n",
              "       '0xdfd3bd446f1b7fd96dc995126ee845af0b1254cd',\n",
              "       '0x1df8ea15bb725e110118f031e8e71b91abaa2a06',\n",
              "       '0x0fe269d6d9e04ecc659b6e3d582a7f35ce419e0f',\n",
              "       '0x95ecfcc073f1d768be35839dd27724a0aed78e60',\n",
              "       '0x058b10cbe1872ad139b00326686ee8ccef274c58'], dtype=object)"
            ]
          },
          "metadata": {},
          "execution_count": 27
        }
      ]
    },
    {
      "cell_type": "markdown",
      "source": [
        "Grafico la cantidad de liquidaciones por liquidador. Muestro que, incluso en este grupo pequeño, están muy concentradas."
      ],
      "metadata": {
        "id": "zQe_YzdY2TN7"
      }
    },
    {
      "cell_type": "code",
      "source": [
        "df2=df.groupby('liquidator')['id'].count().reset_index()"
      ],
      "metadata": {
        "id": "i7H5YmuZzzDO"
      },
      "execution_count": 24,
      "outputs": []
    },
    {
      "cell_type": "code",
      "source": [
        "df2.sort_values('id').plot(kind='bar', x='liquidator')"
      ],
      "metadata": {
        "colab": {
          "base_uri": "https://localhost:8080/",
          "height": 550
        },
        "id": "JwxIK6uJ1vZv",
        "outputId": "3bf81301-e682-4db5-eaeb-b1b91ba35ad5"
      },
      "execution_count": 32,
      "outputs": [
        {
          "output_type": "execute_result",
          "data": {
            "text/plain": [
              "<matplotlib.axes._subplots.AxesSubplot at 0x7fb06dd16790>"
            ]
          },
          "metadata": {},
          "execution_count": 32
        },
        {
          "output_type": "display_data",
          "data": {
            "text/plain": [
              "<Figure size 432x288 with 1 Axes>"
            ],
            "image/png": "[encoded data removed]"
          },
          "metadata": {
            "needs_background": "light"
          }
        }
      ]
    },
    {
      "cell_type": "code",
      "source": [
        "print('total colateral seized (USDC)',sum(df['collateralAmount'].astype('float')*(10**-6)))"
      ],
      "metadata": {
        "colab": {
          "base_uri": "https://localhost:8080/"
        },
        "id": "s8jN-1f4mN8U",
        "outputId": "34d05fd4-e16b-459a-ab49-a977913c6e82"
      },
      "execution_count": null,
      "outputs": [
        {
          "output_type": "stream",
          "name": "stdout",
          "text": [
            "total colateral seized (USD) 63605103.12404197\n"
          ]
        }
      ]
    },
    {
      "cell_type": "code",
      "source": [
        "print('total principal payed (CRV)',sum(df['principalAmount'].astype('float')*(10**-18)))"
      ],
      "metadata": {
        "colab": {
          "base_uri": "https://localhost:8080/"
        },
        "id": "lT1UHSShqa04",
        "outputId": "3a1a2545-9a69-4c0e-9270-a81976cd44a2"
      },
      "execution_count": null,
      "outputs": [
        {
          "output_type": "stream",
          "name": "stdout",
          "text": [
            "total principal payed (CRV) 89544317.44385089\n"
          ]
        }
      ]
    },
    {
      "cell_type": "code",
      "source": [
        "df['collateralReserve']"
      ],
      "metadata": {
        "colab": {
          "base_uri": "https://localhost:8080/"
        },
        "id": "X4_0CnrpmfhT",
        "outputId": "79d01bff-a849-4737-c4d5-ddfaeab09e7c"
      },
      "execution_count": null,
      "outputs": [
        {
          "output_type": "execute_result",
          "data": {
            "text/plain": [
              "0      {'id': '0xa0b86991c6218b36c1d19d4a2e9eb0ce3606...\n",
              "1      {'id': '0xa0b86991c6218b36c1d19d4a2e9eb0ce3606...\n",
              "2      {'id': '0xa0b86991c6218b36c1d19d4a2e9eb0ce3606...\n",
              "3      {'id': '0xa0b86991c6218b36c1d19d4a2e9eb0ce3606...\n",
              "4      {'id': '0xa0b86991c6218b36c1d19d4a2e9eb0ce3606...\n",
              "                             ...                        \n",
              "380    {'id': '0xa0b86991c6218b36c1d19d4a2e9eb0ce3606...\n",
              "381    {'id': '0xa0b86991c6218b36c1d19d4a2e9eb0ce3606...\n",
              "382    {'id': '0xa0b86991c6218b36c1d19d4a2e9eb0ce3606...\n",
              "383    {'id': '0xa0b86991c6218b36c1d19d4a2e9eb0ce3606...\n",
              "384    {'id': '0xa0b86991c6218b36c1d19d4a2e9eb0ce3606...\n",
              "Name: collateralReserve, Length: 385, dtype: object"
            ]
          },
          "metadata": {},
          "execution_count": 16
        }
      ]
    },
    {
      "cell_type": "markdown",
      "source": [
        "Usar json_normalize para normalizar las columnas que están en Json"
      ],
      "metadata": {
        "id": "Lp0ulaHfqxU6"
      }
    },
    {
      "cell_type": "code",
      "source": [
        "pd.json_normalize(df['principalReserve'])"
      ],
      "metadata": {
        "colab": {
          "base_uri": "https://localhost:8080/",
          "height": 424
        },
        "id": "sPPsJ2-4n7pT",
        "outputId": "4e85a7fe-2451-4021-bf68-0c43d5ee48f1"
      },
      "execution_count": null,
      "outputs": [
        {
          "output_type": "execute_result",
          "data": {
            "text/plain": [
              "                                                    id  \\\n",
              "0    0xd533a949740bb3306d119cc777fa900ba034cd520xb5...   \n",
              "1    0xd533a949740bb3306d119cc777fa900ba034cd520xb5...   \n",
              "2    0xd533a949740bb3306d119cc777fa900ba034cd520xb5...   \n",
              "3    0xd533a949740bb3306d119cc777fa900ba034cd520xb5...   \n",
              "4    0xd533a949740bb3306d119cc777fa900ba034cd520xb5...   \n",
              "..                                                 ...   \n",
              "380  0xd533a949740bb3306d119cc777fa900ba034cd520xb5...   \n",
              "381  0xd533a949740bb3306d119cc777fa900ba034cd520xb5...   \n",
              "382  0xd533a949740bb3306d119cc777fa900ba034cd520xb5...   \n",
              "383  0xd533a949740bb3306d119cc777fa900ba034cd520xb5...   \n",
              "384  0xd533a949740bb3306d119cc777fa900ba034cd520xb5...   \n",
              "\n",
              "                                underlyingAsset symbol  decimals  \n",
              "0    0xd533a949740bb3306d119cc777fa900ba034cd52    CRV        18  \n",
              "1    0xd533a949740bb3306d119cc777fa900ba034cd52    CRV        18  \n",
              "2    0xd533a949740bb3306d119cc777fa900ba034cd52    CRV        18  \n",
              "3    0xd533a949740bb3306d119cc777fa900ba034cd52    CRV        18  \n",
              "4    0xd533a949740bb3306d119cc777fa900ba034cd52    CRV        18  \n",
              "..                                          ...    ...       ...  \n",
              "380  0xd533a949740bb3306d119cc777fa900ba034cd52    CRV        18  \n",
              "381  0xd533a949740bb3306d119cc777fa900ba034cd52    CRV        18  \n",
              "382  0xd533a949740bb3306d119cc777fa900ba034cd52    CRV        18  \n",
              "383  0xd533a949740bb3306d119cc777fa900ba034cd52    CRV        18  \n",
              "384  0xd533a949740bb3306d119cc777fa900ba034cd52    CRV        18  \n",
              "\n",
              "[385 rows x 4 columns]"
            ],
            "text/html": [
              "\n",
              "  <div id=\"df-6d796e8a-391e-48d7-b704-b4e5f102499b\">\n",
              "    <div class=\"colab-df-container\">\n",
              "      <div>\n",
              "<style scoped>\n",
              "    .dataframe tbody tr th:only-of-type {\n",
              "        vertical-align: middle;\n",
              "    }\n",
              "\n",
              "    .dataframe tbody tr th {\n",
              "        vertical-align: top;\n",
              "    }\n",
              "\n",
              "    .dataframe thead th {\n",
              "        text-align: right;\n",
              "    }\n",
              "</style>\n",
              "<table border=\"1\" class=\"dataframe\">\n",
              "  <thead>\n",
              "    <tr style=\"text-align: right;\">\n",
              "      <th></th>\n",
              "      <th>id</th>\n",
              "      <th>underlyingAsset</th>\n",
              "      <th>symbol</th>\n",
              "      <th>decimals</th>\n",
              "    </tr>\n",
              "  </thead>\n",
              "  <tbody>\n",
              "    <tr>\n",
              "      <th>0</th>\n",
              "      <td>0xd533a949740bb3306d119cc777fa900ba034cd520xb5...</td>\n",
              "      <td>0xd533a949740bb3306d119cc777fa900ba034cd52</td>\n",
              "      <td>CRV</td>\n",
              "      <td>18</td>\n",
              "    </tr>\n",
              "    <tr>\n",
              "      <th>1</th>\n",
              "      <td>0xd533a949740bb3306d119cc777fa900ba034cd520xb5...</td>\n",
              "      <td>0xd533a949740bb3306d119cc777fa900ba034cd52</td>\n",
              "      <td>CRV</td>\n",
              "      <td>18</td>\n",
              "    </tr>\n",
              "    <tr>\n",
              "      <th>2</th>\n",
              "      <td>0xd533a949740bb3306d119cc777fa900ba034cd520xb5...</td>\n",
              "      <td>0xd533a949740bb3306d119cc777fa900ba034cd52</td>\n",
              "      <td>CRV</td>\n",
              "      <td>18</td>\n",
              "    </tr>\n",
              "    <tr>\n",
              "      <th>3</th>\n",
              "      <td>0xd533a949740bb3306d119cc777fa900ba034cd520xb5...</td>\n",
              "      <td>0xd533a949740bb3306d119cc777fa900ba034cd52</td>\n",
              "      <td>CRV</td>\n",
              "      <td>18</td>\n",
              "    </tr>\n",
              "    <tr>\n",
              "      <th>4</th>\n",
              "      <td>0xd533a949740bb3306d119cc777fa900ba034cd520xb5...</td>\n",
              "      <td>0xd533a949740bb3306d119cc777fa900ba034cd52</td>\n",
              "      <td>CRV</td>\n",
              "      <td>18</td>\n",
              "    </tr>\n",
              "    <tr>\n",
              "      <th>...</th>\n",
              "      <td>...</td>\n",
              "      <td>...</td>\n",
              "      <td>...</td>\n",
              "      <td>...</td>\n",
              "    </tr>\n",
              "    <tr>\n",
              "      <th>380</th>\n",
              "      <td>0xd533a949740bb3306d119cc777fa900ba034cd520xb5...</td>\n",
              "      <td>0xd533a949740bb3306d119cc777fa900ba034cd52</td>\n",
              "      <td>CRV</td>\n",
              "      <td>18</td>\n",
              "    </tr>\n",
              "    <tr>\n",
              "      <th>381</th>\n",
              "      <td>0xd533a949740bb3306d119cc777fa900ba034cd520xb5...</td>\n",
              "      <td>0xd533a949740bb3306d119cc777fa900ba034cd52</td>\n",
              "      <td>CRV</td>\n",
              "      <td>18</td>\n",
              "    </tr>\n",
              "    <tr>\n",
              "      <th>382</th>\n",
              "      <td>0xd533a949740bb3306d119cc777fa900ba034cd520xb5...</td>\n",
              "      <td>0xd533a949740bb3306d119cc777fa900ba034cd52</td>\n",
              "      <td>CRV</td>\n",
              "      <td>18</td>\n",
              "    </tr>\n",
              "    <tr>\n",
              "      <th>383</th>\n",
              "      <td>0xd533a949740bb3306d119cc777fa900ba034cd520xb5...</td>\n",
              "      <td>0xd533a949740bb3306d119cc777fa900ba034cd52</td>\n",
              "      <td>CRV</td>\n",
              "      <td>18</td>\n",
              "    </tr>\n",
              "    <tr>\n",
              "      <th>384</th>\n",
              "      <td>0xd533a949740bb3306d119cc777fa900ba034cd520xb5...</td>\n",
              "      <td>0xd533a949740bb3306d119cc777fa900ba034cd52</td>\n",
              "      <td>CRV</td>\n",
              "      <td>18</td>\n",
              "    </tr>\n",
              "  </tbody>\n",
              "</table>\n",
              "<p>385 rows × 4 columns</p>\n",
              "</div>\n",
              "      <button class=\"colab-df-convert\" onclick=\"convertToInteractive('df-6d796e8a-391e-48d7-b704-b4e5f102499b')\"\n",
              "              title=\"Convert this dataframe to an interactive table.\"\n",
              "              style=\"display:none;\">\n",
              "        \n",
              "  <svg xmlns=\"http://www.w3.org/2000/svg\" height=\"24px\"viewBox=\"0 0 24 24\"\n",
              "       width=\"24px\">\n",
              "    <path d=\"M0 0h24v24H0V0z\" fill=\"none\"/>\n",
              "    <path d=\"M18.56 5.44l.94 2.06.94-2.06 2.06-.94-2.06-.94-.94-2.06-.94 2.06-2.06.94zm-11 1L8.5 8.5l.94-2.06 2.06-.94-2.06-.94L8.5 2.5l-.94 2.06-2.06.94zm10 10l.94 2.06.94-2.06 2.06-.94-2.06-.94-.94-2.06-.94 2.06-2.06.94z\"/><path d=\"M17.41 7.96l-1.37-1.37c-.4-.4-.92-.59-1.43-.59-.52 0-1.04.2-1.43.59L10.3 9.45l-7.72 7.72c-.78.78-.78 2.05 0 2.83L4 21.41c.39.39.9.59 1.41.59.51 0 1.02-.2 1.41-.59l7.78-7.78 2.81-2.81c.8-.78.8-2.07 0-2.86zM5.41 20L4 18.59l7.72-7.72 1.47 1.35L5.41 20z\"/>\n",
              "  </svg>\n",
              "      </button>\n",
              "      \n",
              "  <style>\n",
              "    .colab-df-container {\n",
              "      display:flex;\n",
              "      flex-wrap:wrap;\n",
              "      gap: 12px;\n",
              "    }\n",
              "\n",
              "    .colab-df-convert {\n",
              "      background-color: #E8F0FE;\n",
              "      border: none;\n",
              "      border-radius: 50%;\n",
              "      cursor: pointer;\n",
              "      display: none;\n",
              "      fill: #1967D2;\n",
              "      height: 32px;\n",
              "      padding: 0 0 0 0;\n",
              "      width: 32px;\n",
              "    }\n",
              "\n",
              "    .colab-df-convert:hover {\n",
              "      background-color: #E2EBFA;\n",
              "      box-shadow: 0px 1px 2px rgba(60, 64, 67, 0.3), 0px 1px 3px 1px rgba(60, 64, 67, 0.15);\n",
              "      fill: #174EA6;\n",
              "    }\n",
              "\n",
              "    [theme=dark] .colab-df-convert {\n",
              "      background-color: #3B4455;\n",
              "      fill: #D2E3FC;\n",
              "    }\n",
              "\n",
              "    [theme=dark] .colab-df-convert:hover {\n",
              "      background-color: #434B5C;\n",
              "      box-shadow: 0px 1px 3px 1px rgba(0, 0, 0, 0.15);\n",
              "      filter: drop-shadow(0px 1px 2px rgba(0, 0, 0, 0.3));\n",
              "      fill: #FFFFFF;\n",
              "    }\n",
              "  </style>\n",
              "\n",
              "      <script>\n",
              "        const buttonEl =\n",
              "          document.querySelector('#df-6d796e8a-391e-48d7-b704-b4e5f102499b button.colab-df-convert');\n",
              "        buttonEl.style.display =\n",
              "          google.colab.kernel.accessAllowed ? 'block' : 'none';\n",
              "\n",
              "        async function convertToInteractive(key) {\n",
              "          const element = document.querySelector('#df-6d796e8a-391e-48d7-b704-b4e5f102499b');\n",
              "          const dataTable =\n",
              "            await google.colab.kernel.invokeFunction('convertToInteractive',\n",
              "                                                     [key], {});\n",
              "          if (!dataTable) return;\n",
              "\n",
              "          const docLinkHtml = 'Like what you see? Visit the ' +\n",
              "            '<a target=\"_blank\" href=https://colab.research.google.com/notebooks/data_table.ipynb>data table notebook</a>'\n",
              "            + ' to learn more about interactive tables.';\n",
              "          element.innerHTML = '';\n",
              "          dataTable['output_type'] = 'display_data';\n",
              "          await google.colab.output.renderOutput(dataTable, element);\n",
              "          const docLink = document.createElement('div');\n",
              "          docLink.innerHTML = docLinkHtml;\n",
              "          element.appendChild(docLink);\n",
              "        }\n",
              "      </script>\n",
              "    </div>\n",
              "  </div>\n",
              "  "
            ]
          },
          "metadata": {},
          "execution_count": 43
        }
      ]
    },
    {
      "cell_type": "code",
      "source": [
        "df['collateralAssetPriceUSD'].astype(float)"
      ],
      "metadata": {
        "colab": {
          "base_uri": "https://localhost:8080/"
        },
        "id": "Km4X7BJLsvos",
        "outputId": "166ffd1b-5874-4751-ccbb-b6e56a1d010f"
      },
      "execution_count": null,
      "outputs": [
        {
          "output_type": "execute_result",
          "data": {
            "text/plain": [
              "0      1.006597\n",
              "1      1.006597\n",
              "2      1.006597\n",
              "3      1.006597\n",
              "4      1.006597\n",
              "         ...   \n",
              "380    0.996178\n",
              "381    0.996178\n",
              "382    0.996178\n",
              "383    0.996178\n",
              "384    0.996178\n",
              "Name: collateralAssetPriceUSD, Length: 385, dtype: float64"
            ]
          },
          "metadata": {},
          "execution_count": 58
        }
      ]
    },
    {
      "cell_type": "code",
      "source": [
        "#df['collateralAssetPriceUSD']\n",
        "def tsgraph(var):\n",
        "  df['datetime']=df['timestamp'].apply(lambda x: datetime.fromtimestamp(x))\n",
        "  df[var]=df[var].astype(float)\n",
        "  df.plot.scatter('datetime',var)\n",
        "\n",
        "tsgraph('collateralAssetPriceUSD')"
      ],
      "metadata": {
        "colab": {
          "base_uri": "https://localhost:8080/",
          "height": 279
        },
        "id": "TzPDDEQmrFjf",
        "outputId": "6fb41357-ebcf-4904-aa08-a0e19e36ea00"
      },
      "execution_count": null,
      "outputs": [
        {
          "output_type": "display_data",
          "data": {
            "text/plain": [
              "<Figure size 432x288 with 1 Axes>"
            ],
            "image/png": "[encoded data removed]"
          },
          "metadata": {
            "needs_background": "light"
          }
        }
      ]
    },
    {
      "cell_type": "markdown",
      "source": [
        "El precio del CRV empezó a aumentar, posiblemente para poder liquidar y llevarse los dolares."
      ],
      "metadata": {
        "id": "Vbc18VhcuTj9"
      }
    },
    {
      "cell_type": "code",
      "source": [
        "tsgraph('borrowAssetPriceUSD')"
      ],
      "metadata": {
        "colab": {
          "base_uri": "https://localhost:8080/",
          "height": 279
        },
        "id": "X3_TezyEsbB5",
        "outputId": "f5a09866-9aef-4bb9-ab75-e29fe89b6a7c"
      },
      "execution_count": null,
      "outputs": [
        {
          "output_type": "display_data",
          "data": {
            "text/plain": [
              "<Figure size 432x288 with 1 Axes>"
            ],
            "image/png": "[encoded data removed]"
          },
          "metadata": {
            "needs_background": "light"
          }
        }
      ]
    },
    {
      "cell_type": "code",
      "source": [
        "df.columns"
      ],
      "metadata": {
        "id": "nbT3vOs2r6-k",
        "colab": {
          "base_uri": "https://localhost:8080/"
        },
        "outputId": "c5a9b682-dd5e-41c2-c2a5-12faed5febf1"
      },
      "execution_count": 14,
      "outputs": [
        {
          "output_type": "execute_result",
          "data": {
            "text/plain": [
              "Index(['id', 'liquidator', 'timestamp', 'user', 'principalAmount',\n",
              "       'collateralAmount', 'collateralReserve', 'collateralUserReserve',\n",
              "       'principalReserve', 'collateralAssetPriceUSD', 'borrowAssetPriceUSD'],\n",
              "      dtype='object')"
            ]
          },
          "metadata": {},
          "execution_count": 14
        }
      ]
    },
    {
      "cell_type": "markdown",
      "source": [
        "¿Cuán rápido ocurrieron las liquidaciones? Gráfico de liquidaciones de colateral contra el tiempo."
      ],
      "metadata": {
        "id": "VgbkidTkkLo_"
      }
    },
    {
      "cell_type": "code",
      "source": [
        "def graph2():\n",
        "  df2=df.groupby('timestamp')['collateralAmount'].sum().reset_index()\n",
        "  df2['collateralAmount']=df2['collateralAmount'].astype('float')*(10**-6)\n",
        "  df2['datetime']=df2['timestamp'].apply(lambda x: datetime.fromtimestamp(x))\n",
        "  #df2.plot.scatter('datetime','collateralAmount')\n",
        "  return df2\n",
        "\n",
        "graph2()['collateralAmount']"
      ],
      "metadata": {
        "colab": {
          "base_uri": "https://localhost:8080/"
        },
        "id": "qzq7KwQolfXY",
        "outputId": "30dce899-7a1b-40ce-a8a4-7cc29820c72a"
      },
      "execution_count": 42,
      "outputs": [
        {
          "output_type": "execute_result",
          "data": {
            "text/plain": [
              "0      2.051365e+15\n",
              "1      2.287268e+46\n",
              "2      6.565009e+04\n",
              "3      1.311414e+17\n",
              "4      1.472497e+15\n",
              "           ...     \n",
              "211    3.501507e+28\n",
              "212    6.691960e+05\n",
              "213    3.446767e+16\n",
              "214    1.644928e+17\n",
              "215    1.375307e+12\n",
              "Name: collateralAmount, Length: 216, dtype: float64"
            ]
          },
          "metadata": {},
          "execution_count": 42
        }
      ]
    },
    {
      "cell_type": "code",
      "source": [
        "def graph3():\n",
        "  df['collateralAmount_f']=df['collateralAmount'].astype('float')*(10**-6)\n",
        "  df['principalAmount_f']=df['principalAmount'].astype('float')*(10**-18)\n",
        "  df.plot.scatter('collateralAmount_f','principalAmount_f')\n",
        "graph3()"
      ],
      "metadata": {
        "colab": {
          "base_uri": "https://localhost:8080/",
          "height": 291
        },
        "id": "sH7VaiwXx5dy",
        "outputId": "aa9b02cf-bad6-4123-c0b0-a431bbc91d9e"
      },
      "execution_count": 45,
      "outputs": [
        {
          "output_type": "display_data",
          "data": {
            "text/plain": [
              "<Figure size 432x288 with 1 Axes>"
            ],
            "image/png": "[encoded data removed]"
          },
          "metadata": {
            "needs_background": "light"
          }
        }
      ]
    },
    {
      "cell_type": "code",
      "source": [],
      "metadata": {
        "id": "e3sJ9ve_xgMA"
      },
      "execution_count": null,
      "outputs": []
    },
    {
      "cell_type": "markdown",
      "source": [
        "¿Cuánto colateral quedaba por liquidarse y cuán rapido se cerró la posición unhealthy ?"
      ],
      "metadata": {
        "id": "7Dv39MBBkVzI"
      }
    }
  ]
}